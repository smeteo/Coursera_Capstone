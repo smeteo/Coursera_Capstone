{
 "cells": [
  {
   "cell_type": "markdown",
   "metadata": {},
   "source": [
    "# CLUSTERING NEIGHBOORHOOD IN TORONTO"
   ]
  },
  {
   "cell_type": "markdown",
   "metadata": {},
   "source": [
    "## Part 1"
   ]
  },
  {
   "cell_type": "markdown",
   "metadata": {},
   "source": [
    "## Scraping Data From Wikipedia"
   ]
  },
  {
   "cell_type": "code",
   "execution_count": 87,
   "metadata": {},
   "outputs": [],
   "source": [
    "#Importing Libraries\n",
    "import pandas as pd\n",
    "import numpy as np"
   ]
  },
  {
   "cell_type": "code",
   "execution_count": 88,
   "metadata": {},
   "outputs": [],
   "source": [
    "# Loading data\n",
    "tables = pd.read_html('https://en.wikipedia.org/wiki/List_of_postal_codes_of_Canada:_M')"
   ]
  },
  {
   "cell_type": "code",
   "execution_count": 89,
   "metadata": {},
   "outputs": [
    {
     "data": {
      "text/plain": [
       "list"
      ]
     },
     "execution_count": 89,
     "metadata": {},
     "output_type": "execute_result"
    }
   ],
   "source": [
    "# Checking the type of output\n",
    "type(tables)"
   ]
  },
  {
   "cell_type": "code",
   "execution_count": 90,
   "metadata": {},
   "outputs": [
    {
     "data": {
      "text/plain": [
       "3"
      ]
     },
     "execution_count": 90,
     "metadata": {},
     "output_type": "execute_result"
    }
   ],
   "source": [
    "# How many tables inside\n",
    "len(tables)"
   ]
  },
  {
   "cell_type": "code",
   "execution_count": 91,
   "metadata": {},
   "outputs": [
    {
     "data": {
      "text/html": [
       "<div>\n",
       "<style scoped>\n",
       "    .dataframe tbody tr th:only-of-type {\n",
       "        vertical-align: middle;\n",
       "    }\n",
       "\n",
       "    .dataframe tbody tr th {\n",
       "        vertical-align: top;\n",
       "    }\n",
       "\n",
       "    .dataframe thead th {\n",
       "        text-align: right;\n",
       "    }\n",
       "</style>\n",
       "<table border=\"1\" class=\"dataframe\">\n",
       "  <thead>\n",
       "    <tr style=\"text-align: right;\">\n",
       "      <th></th>\n",
       "      <th>index</th>\n",
       "      <th>Postal Code</th>\n",
       "      <th>Borough</th>\n",
       "      <th>Neighbourhood</th>\n",
       "    </tr>\n",
       "  </thead>\n",
       "  <tbody>\n",
       "    <tr>\n",
       "      <th>0</th>\n",
       "      <td>0</td>\n",
       "      <td>M1A</td>\n",
       "      <td>Not assigned</td>\n",
       "      <td>Not assigned</td>\n",
       "    </tr>\n",
       "    <tr>\n",
       "      <th>1</th>\n",
       "      <td>1</td>\n",
       "      <td>M2A</td>\n",
       "      <td>Not assigned</td>\n",
       "      <td>Not assigned</td>\n",
       "    </tr>\n",
       "    <tr>\n",
       "      <th>2</th>\n",
       "      <td>2</td>\n",
       "      <td>M3A</td>\n",
       "      <td>North York</td>\n",
       "      <td>Parkwoods</td>\n",
       "    </tr>\n",
       "    <tr>\n",
       "      <th>3</th>\n",
       "      <td>3</td>\n",
       "      <td>M4A</td>\n",
       "      <td>North York</td>\n",
       "      <td>Victoria Village</td>\n",
       "    </tr>\n",
       "    <tr>\n",
       "      <th>4</th>\n",
       "      <td>4</td>\n",
       "      <td>M5A</td>\n",
       "      <td>Downtown Toronto</td>\n",
       "      <td>Regent Park, Harbourfront</td>\n",
       "    </tr>\n",
       "    <tr>\n",
       "      <th>...</th>\n",
       "      <td>...</td>\n",
       "      <td>...</td>\n",
       "      <td>...</td>\n",
       "      <td>...</td>\n",
       "    </tr>\n",
       "    <tr>\n",
       "      <th>175</th>\n",
       "      <td>175</td>\n",
       "      <td>M5Z</td>\n",
       "      <td>Not assigned</td>\n",
       "      <td>Not assigned</td>\n",
       "    </tr>\n",
       "    <tr>\n",
       "      <th>176</th>\n",
       "      <td>176</td>\n",
       "      <td>M6Z</td>\n",
       "      <td>Not assigned</td>\n",
       "      <td>Not assigned</td>\n",
       "    </tr>\n",
       "    <tr>\n",
       "      <th>177</th>\n",
       "      <td>177</td>\n",
       "      <td>M7Z</td>\n",
       "      <td>Not assigned</td>\n",
       "      <td>Not assigned</td>\n",
       "    </tr>\n",
       "    <tr>\n",
       "      <th>178</th>\n",
       "      <td>178</td>\n",
       "      <td>M8Z</td>\n",
       "      <td>Etobicoke</td>\n",
       "      <td>Mimico NW, The Queensway West, South of Bloor,...</td>\n",
       "    </tr>\n",
       "    <tr>\n",
       "      <th>179</th>\n",
       "      <td>179</td>\n",
       "      <td>M9Z</td>\n",
       "      <td>Not assigned</td>\n",
       "      <td>Not assigned</td>\n",
       "    </tr>\n",
       "  </tbody>\n",
       "</table>\n",
       "<p>180 rows × 4 columns</p>\n",
       "</div>"
      ],
      "text/plain": [
       "     index Postal Code           Borough  \\\n",
       "0        0         M1A      Not assigned   \n",
       "1        1         M2A      Not assigned   \n",
       "2        2         M3A        North York   \n",
       "3        3         M4A        North York   \n",
       "4        4         M5A  Downtown Toronto   \n",
       "..     ...         ...               ...   \n",
       "175    175         M5Z      Not assigned   \n",
       "176    176         M6Z      Not assigned   \n",
       "177    177         M7Z      Not assigned   \n",
       "178    178         M8Z         Etobicoke   \n",
       "179    179         M9Z      Not assigned   \n",
       "\n",
       "                                         Neighbourhood  \n",
       "0                                         Not assigned  \n",
       "1                                         Not assigned  \n",
       "2                                            Parkwoods  \n",
       "3                                     Victoria Village  \n",
       "4                            Regent Park, Harbourfront  \n",
       "..                                                 ...  \n",
       "175                                       Not assigned  \n",
       "176                                       Not assigned  \n",
       "177                                       Not assigned  \n",
       "178  Mimico NW, The Queensway West, South of Bloor,...  \n",
       "179                                       Not assigned  \n",
       "\n",
       "[180 rows x 4 columns]"
      ]
     },
     "execution_count": 91,
     "metadata": {},
     "output_type": "execute_result"
    }
   ],
   "source": [
    "# Let's check first\n",
    "table[0]"
   ]
  },
  {
   "cell_type": "code",
   "execution_count": 129,
   "metadata": {},
   "outputs": [],
   "source": [
    "# Converting list into dataframe\n",
    "df = pd.DataFrame(table[0])"
   ]
  },
  {
   "cell_type": "code",
   "execution_count": 130,
   "metadata": {},
   "outputs": [
    {
     "data": {
      "text/html": [
       "<div>\n",
       "<style scoped>\n",
       "    .dataframe tbody tr th:only-of-type {\n",
       "        vertical-align: middle;\n",
       "    }\n",
       "\n",
       "    .dataframe tbody tr th {\n",
       "        vertical-align: top;\n",
       "    }\n",
       "\n",
       "    .dataframe thead th {\n",
       "        text-align: right;\n",
       "    }\n",
       "</style>\n",
       "<table border=\"1\" class=\"dataframe\">\n",
       "  <thead>\n",
       "    <tr style=\"text-align: right;\">\n",
       "      <th></th>\n",
       "      <th>index</th>\n",
       "      <th>Postal Code</th>\n",
       "      <th>Borough</th>\n",
       "      <th>Neighbourhood</th>\n",
       "    </tr>\n",
       "  </thead>\n",
       "  <tbody>\n",
       "    <tr>\n",
       "      <th>0</th>\n",
       "      <td>0</td>\n",
       "      <td>M1A</td>\n",
       "      <td>Not assigned</td>\n",
       "      <td>Not assigned</td>\n",
       "    </tr>\n",
       "    <tr>\n",
       "      <th>1</th>\n",
       "      <td>1</td>\n",
       "      <td>M2A</td>\n",
       "      <td>Not assigned</td>\n",
       "      <td>Not assigned</td>\n",
       "    </tr>\n",
       "    <tr>\n",
       "      <th>2</th>\n",
       "      <td>2</td>\n",
       "      <td>M3A</td>\n",
       "      <td>North York</td>\n",
       "      <td>Parkwoods</td>\n",
       "    </tr>\n",
       "    <tr>\n",
       "      <th>3</th>\n",
       "      <td>3</td>\n",
       "      <td>M4A</td>\n",
       "      <td>North York</td>\n",
       "      <td>Victoria Village</td>\n",
       "    </tr>\n",
       "    <tr>\n",
       "      <th>4</th>\n",
       "      <td>4</td>\n",
       "      <td>M5A</td>\n",
       "      <td>Downtown Toronto</td>\n",
       "      <td>Regent Park, Harbourfront</td>\n",
       "    </tr>\n",
       "  </tbody>\n",
       "</table>\n",
       "</div>"
      ],
      "text/plain": [
       "   index Postal Code           Borough              Neighbourhood\n",
       "0      0         M1A      Not assigned               Not assigned\n",
       "1      1         M2A      Not assigned               Not assigned\n",
       "2      2         M3A        North York                  Parkwoods\n",
       "3      3         M4A        North York           Victoria Village\n",
       "4      4         M5A  Downtown Toronto  Regent Park, Harbourfront"
      ]
     },
     "execution_count": 130,
     "metadata": {},
     "output_type": "execute_result"
    }
   ],
   "source": [
    "# Checking head\n",
    "df.head()"
   ]
  },
  {
   "cell_type": "code",
   "execution_count": 132,
   "metadata": {},
   "outputs": [
    {
     "data": {
      "text/plain": [
       "(180, 3)"
      ]
     },
     "execution_count": 132,
     "metadata": {},
     "output_type": "execute_result"
    }
   ],
   "source": [
    "# Checking shape\n",
    "df.shape"
   ]
  },
  {
   "cell_type": "code",
   "execution_count": 133,
   "metadata": {},
   "outputs": [
    {
     "data": {
      "text/plain": [
       "Postal Code      0\n",
       "Borough          0\n",
       "Neighbourhood    0\n",
       "dtype: int64"
      ]
     },
     "execution_count": 133,
     "metadata": {},
     "output_type": "execute_result"
    }
   ],
   "source": [
    "# Null values check\n",
    "df.isnull().sum()"
   ]
  },
  {
   "cell_type": "code",
   "execution_count": 134,
   "metadata": {},
   "outputs": [
    {
     "name": "stdout",
     "output_type": "stream",
     "text": [
      "<class 'pandas.core.frame.DataFrame'>\n",
      "RangeIndex: 180 entries, 0 to 179\n",
      "Data columns (total 3 columns):\n",
      " #   Column         Non-Null Count  Dtype \n",
      "---  ------         --------------  ----- \n",
      " 0   Postal Code    180 non-null    object\n",
      " 1   Borough        180 non-null    object\n",
      " 2   Neighbourhood  180 non-null    object\n",
      "dtypes: object(3)\n",
      "memory usage: 4.3+ KB\n"
     ]
    }
   ],
   "source": [
    "df.info()"
   ]
  },
  {
   "cell_type": "code",
   "execution_count": 135,
   "metadata": {},
   "outputs": [
    {
     "data": {
      "text/plain": [
       "M9K    1\n",
       "M7S    1\n",
       "M6Y    1\n",
       "M3L    1\n",
       "M1X    1\n",
       "      ..\n",
       "M4M    1\n",
       "M5Y    1\n",
       "M1V    1\n",
       "M7H    1\n",
       "M1H    1\n",
       "Name: Postal Code, Length: 180, dtype: int64"
      ]
     },
     "execution_count": 135,
     "metadata": {},
     "output_type": "execute_result"
    }
   ],
   "source": [
    "# Check values of Postal Code\n",
    "df['Postal Code'].value_counts()"
   ]
  },
  {
   "cell_type": "code",
   "execution_count": 136,
   "metadata": {},
   "outputs": [
    {
     "data": {
      "text/plain": [
       "Not assigned                                77\n",
       "Downsview                                    4\n",
       "Don Mills                                    2\n",
       "Caledonia-Fairbanks                          1\n",
       "Guildwood, Morningside, West Hill            1\n",
       "                                            ..\n",
       "Regent Park, Harbourfront                    1\n",
       "Glencairn                                    1\n",
       "Victoria Village                             1\n",
       "Runnymede, The Junction North                1\n",
       "North Park, Maple Leaf Park, Upwood Park     1\n",
       "Name: Neighbourhood, Length: 100, dtype: int64"
      ]
     },
     "execution_count": 136,
     "metadata": {},
     "output_type": "execute_result"
    }
   ],
   "source": [
    "# Check values of Neighbourhood\n",
    "df['Neighbourhood'].value_counts()"
   ]
  },
  {
   "cell_type": "code",
   "execution_count": 137,
   "metadata": {},
   "outputs": [
    {
     "data": {
      "text/plain": [
       "Not assigned        77\n",
       "North York          24\n",
       "Downtown Toronto    19\n",
       "Scarborough         17\n",
       "Etobicoke           12\n",
       "Central Toronto      9\n",
       "West Toronto         6\n",
       "East York            5\n",
       "East Toronto         5\n",
       "York                 5\n",
       "Mississauga          1\n",
       "Name: Borough, dtype: int64"
      ]
     },
     "execution_count": 137,
     "metadata": {},
     "output_type": "execute_result"
    }
   ],
   "source": [
    "# Check values of Borough\n",
    "df['Borough'].value_counts()"
   ]
  },
  {
   "cell_type": "markdown",
   "metadata": {},
   "source": [
    "*There are 77 Not assigned Borough, those rows will be dropped*"
   ]
  },
  {
   "cell_type": "code",
   "execution_count": 138,
   "metadata": {},
   "outputs": [],
   "source": [
    "# Dropping Borough Not assigned rows, assigning as df2\n",
    "df2 = df[df['Borough']!='Not assigned']"
   ]
  },
  {
   "cell_type": "code",
   "execution_count": 139,
   "metadata": {},
   "outputs": [
    {
     "data": {
      "text/plain": [
       "(103, 3)"
      ]
     },
     "execution_count": 139,
     "metadata": {},
     "output_type": "execute_result"
    }
   ],
   "source": [
    "df2.shape"
   ]
  },
  {
   "cell_type": "code",
   "execution_count": 140,
   "metadata": {},
   "outputs": [
    {
     "data": {
      "text/plain": [
       "M5R    1\n",
       "M1E    1\n",
       "M3M    1\n",
       "M9M    1\n",
       "M4N    1\n",
       "      ..\n",
       "M5X    1\n",
       "M4E    1\n",
       "M5S    1\n",
       "M5K    1\n",
       "M1H    1\n",
       "Name: Postal Code, Length: 103, dtype: int64"
      ]
     },
     "execution_count": 140,
     "metadata": {},
     "output_type": "execute_result"
    }
   ],
   "source": [
    "df2['Postal Code'].value_counts()"
   ]
  },
  {
   "cell_type": "code",
   "execution_count": 141,
   "metadata": {},
   "outputs": [
    {
     "data": {
      "text/html": [
       "<div>\n",
       "<style scoped>\n",
       "    .dataframe tbody tr th:only-of-type {\n",
       "        vertical-align: middle;\n",
       "    }\n",
       "\n",
       "    .dataframe tbody tr th {\n",
       "        vertical-align: top;\n",
       "    }\n",
       "\n",
       "    .dataframe thead th {\n",
       "        text-align: right;\n",
       "    }\n",
       "</style>\n",
       "<table border=\"1\" class=\"dataframe\">\n",
       "  <thead>\n",
       "    <tr style=\"text-align: right;\">\n",
       "      <th></th>\n",
       "      <th>Postal Code</th>\n",
       "      <th>Borough</th>\n",
       "      <th>Neighbourhood</th>\n",
       "    </tr>\n",
       "  </thead>\n",
       "  <tbody>\n",
       "    <tr>\n",
       "      <th>4</th>\n",
       "      <td>M5A</td>\n",
       "      <td>Downtown Toronto</td>\n",
       "      <td>Regent Park, Harbourfront</td>\n",
       "    </tr>\n",
       "  </tbody>\n",
       "</table>\n",
       "</div>"
      ],
      "text/plain": [
       "  Postal Code           Borough              Neighbourhood\n",
       "4         M5A  Downtown Toronto  Regent Park, Harbourfront"
      ]
     },
     "execution_count": 141,
     "metadata": {},
     "output_type": "execute_result"
    }
   ],
   "source": [
    "#Checking M5A Postal Code row, if there are multiple entries\n",
    "df2[df2['Postal Code']=='M5A']"
   ]
  },
  {
   "cell_type": "markdown",
   "metadata": {},
   "source": [
    "*Each Postal Code used only once*"
   ]
  },
  {
   "cell_type": "code",
   "execution_count": 142,
   "metadata": {},
   "outputs": [
    {
     "data": {
      "text/plain": [
       "Downsview                                        4\n",
       "Don Mills                                        2\n",
       "The Kingsway, Montgomery Road, Old Mill North    1\n",
       "Willowdale, Willowdale West                      1\n",
       "Victoria Village                                 1\n",
       "                                                ..\n",
       "Upper Rouge                                      1\n",
       "Stn A PO Boxes                                   1\n",
       "Dufferin, Dovercourt Village                     1\n",
       "York Mills, Silver Hills                         1\n",
       "Islington Avenue, Humber Valley Village          1\n",
       "Name: Neighbourhood, Length: 99, dtype: int64"
      ]
     },
     "execution_count": 142,
     "metadata": {},
     "output_type": "execute_result"
    }
   ],
   "source": [
    "df2['Neighbourhood'].value_counts()"
   ]
  },
  {
   "cell_type": "code",
   "execution_count": 143,
   "metadata": {},
   "outputs": [
    {
     "data": {
      "text/html": [
       "<div>\n",
       "<style scoped>\n",
       "    .dataframe tbody tr th:only-of-type {\n",
       "        vertical-align: middle;\n",
       "    }\n",
       "\n",
       "    .dataframe tbody tr th {\n",
       "        vertical-align: top;\n",
       "    }\n",
       "\n",
       "    .dataframe thead th {\n",
       "        text-align: right;\n",
       "    }\n",
       "</style>\n",
       "<table border=\"1\" class=\"dataframe\">\n",
       "  <thead>\n",
       "    <tr style=\"text-align: right;\">\n",
       "      <th></th>\n",
       "      <th>Postal Code</th>\n",
       "      <th>Borough</th>\n",
       "      <th>Neighbourhood</th>\n",
       "    </tr>\n",
       "  </thead>\n",
       "  <tbody>\n",
       "  </tbody>\n",
       "</table>\n",
       "</div>"
      ],
      "text/plain": [
       "Empty DataFrame\n",
       "Columns: [Postal Code, Borough, Neighbourhood]\n",
       "Index: []"
      ]
     },
     "execution_count": 143,
     "metadata": {},
     "output_type": "execute_result"
    }
   ],
   "source": [
    "# Checking for Not assigned Neighbourhood values\n",
    "df2[df2['Neighbourhood']=='Not assigned']"
   ]
  },
  {
   "cell_type": "markdown",
   "metadata": {},
   "source": [
    "*New dataframe has not Not assigned Neighboorhood*"
   ]
  },
  {
   "cell_type": "code",
   "execution_count": 152,
   "metadata": {},
   "outputs": [
    {
     "data": {
      "text/html": [
       "<div>\n",
       "<style scoped>\n",
       "    .dataframe tbody tr th:only-of-type {\n",
       "        vertical-align: middle;\n",
       "    }\n",
       "\n",
       "    .dataframe tbody tr th {\n",
       "        vertical-align: top;\n",
       "    }\n",
       "\n",
       "    .dataframe thead th {\n",
       "        text-align: right;\n",
       "    }\n",
       "</style>\n",
       "<table border=\"1\" class=\"dataframe\">\n",
       "  <thead>\n",
       "    <tr style=\"text-align: right;\">\n",
       "      <th></th>\n",
       "      <th>Postal Code</th>\n",
       "      <th>Borough</th>\n",
       "      <th>Neighbourhood</th>\n",
       "    </tr>\n",
       "  </thead>\n",
       "  <tbody>\n",
       "    <tr>\n",
       "      <th>2</th>\n",
       "      <td>M3A</td>\n",
       "      <td>North York</td>\n",
       "      <td>Parkwoods</td>\n",
       "    </tr>\n",
       "    <tr>\n",
       "      <th>3</th>\n",
       "      <td>M4A</td>\n",
       "      <td>North York</td>\n",
       "      <td>Victoria Village</td>\n",
       "    </tr>\n",
       "    <tr>\n",
       "      <th>4</th>\n",
       "      <td>M5A</td>\n",
       "      <td>Downtown Toronto</td>\n",
       "      <td>Regent Park, Harbourfront</td>\n",
       "    </tr>\n",
       "    <tr>\n",
       "      <th>5</th>\n",
       "      <td>M6A</td>\n",
       "      <td>North York</td>\n",
       "      <td>Lawrence Manor, Lawrence Heights</td>\n",
       "    </tr>\n",
       "    <tr>\n",
       "      <th>6</th>\n",
       "      <td>M7A</td>\n",
       "      <td>Downtown Toronto</td>\n",
       "      <td>Queen's Park, Ontario Provincial Government</td>\n",
       "    </tr>\n",
       "  </tbody>\n",
       "</table>\n",
       "</div>"
      ],
      "text/plain": [
       "  Postal Code           Borough                                Neighbourhood\n",
       "2         M3A        North York                                    Parkwoods\n",
       "3         M4A        North York                             Victoria Village\n",
       "4         M5A  Downtown Toronto                    Regent Park, Harbourfront\n",
       "5         M6A        North York             Lawrence Manor, Lawrence Heights\n",
       "6         M7A  Downtown Toronto  Queen's Park, Ontario Provincial Government"
      ]
     },
     "execution_count": 152,
     "metadata": {},
     "output_type": "execute_result"
    }
   ],
   "source": [
    "df2.head()"
   ]
  },
  {
   "cell_type": "code",
   "execution_count": 169,
   "metadata": {},
   "outputs": [],
   "source": [
    "# Resetting index\n",
    "df2 = df2.reset_index()\n",
    "df2.drop('index',axis=1,inplace=True)"
   ]
  },
  {
   "cell_type": "code",
   "execution_count": 171,
   "metadata": {},
   "outputs": [
    {
     "data": {
      "text/html": [
       "<div>\n",
       "<style scoped>\n",
       "    .dataframe tbody tr th:only-of-type {\n",
       "        vertical-align: middle;\n",
       "    }\n",
       "\n",
       "    .dataframe tbody tr th {\n",
       "        vertical-align: top;\n",
       "    }\n",
       "\n",
       "    .dataframe thead th {\n",
       "        text-align: right;\n",
       "    }\n",
       "</style>\n",
       "<table border=\"1\" class=\"dataframe\">\n",
       "  <thead>\n",
       "    <tr style=\"text-align: right;\">\n",
       "      <th></th>\n",
       "      <th>Postal Code</th>\n",
       "      <th>Borough</th>\n",
       "      <th>Neighbourhood</th>\n",
       "    </tr>\n",
       "  </thead>\n",
       "  <tbody>\n",
       "    <tr>\n",
       "      <th>0</th>\n",
       "      <td>M3A</td>\n",
       "      <td>North York</td>\n",
       "      <td>Parkwoods</td>\n",
       "    </tr>\n",
       "    <tr>\n",
       "      <th>1</th>\n",
       "      <td>M4A</td>\n",
       "      <td>North York</td>\n",
       "      <td>Victoria Village</td>\n",
       "    </tr>\n",
       "    <tr>\n",
       "      <th>2</th>\n",
       "      <td>M5A</td>\n",
       "      <td>Downtown Toronto</td>\n",
       "      <td>Regent Park, Harbourfront</td>\n",
       "    </tr>\n",
       "    <tr>\n",
       "      <th>3</th>\n",
       "      <td>M6A</td>\n",
       "      <td>North York</td>\n",
       "      <td>Lawrence Manor, Lawrence Heights</td>\n",
       "    </tr>\n",
       "    <tr>\n",
       "      <th>4</th>\n",
       "      <td>M7A</td>\n",
       "      <td>Downtown Toronto</td>\n",
       "      <td>Queen's Park, Ontario Provincial Government</td>\n",
       "    </tr>\n",
       "  </tbody>\n",
       "</table>\n",
       "</div>"
      ],
      "text/plain": [
       "  Postal Code           Borough                                Neighbourhood\n",
       "0         M3A        North York                                    Parkwoods\n",
       "1         M4A        North York                             Victoria Village\n",
       "2         M5A  Downtown Toronto                    Regent Park, Harbourfront\n",
       "3         M6A        North York             Lawrence Manor, Lawrence Heights\n",
       "4         M7A  Downtown Toronto  Queen's Park, Ontario Provincial Government"
      ]
     },
     "execution_count": 171,
     "metadata": {},
     "output_type": "execute_result"
    }
   ],
   "source": [
    "df2.head()"
   ]
  },
  {
   "cell_type": "code",
   "execution_count": 172,
   "metadata": {},
   "outputs": [
    {
     "data": {
      "text/plain": [
       "(103, 3)"
      ]
     },
     "execution_count": 172,
     "metadata": {},
     "output_type": "execute_result"
    }
   ],
   "source": [
    "df2.shape"
   ]
  },
  {
   "cell_type": "markdown",
   "metadata": {},
   "source": [
    "*This is end of Part 1*"
   ]
  },
  {
   "cell_type": "markdown",
   "metadata": {},
   "source": [
    "## Part 2"
   ]
  },
  {
   "cell_type": "markdown",
   "metadata": {},
   "source": [
    "### Adding DataFrame Coordinates"
   ]
  },
  {
   "cell_type": "code",
   "execution_count": 79,
   "metadata": {},
   "outputs": [],
   "source": [
    "# convert an address into latitude and longitude values \n",
    "from geopy.geocoders import Nominatim "
   ]
  },
  {
   "cell_type": "code",
   "execution_count": 82,
   "metadata": {},
   "outputs": [
    {
     "name": "stdout",
     "output_type": "stream",
     "text": [
      "The geograpical coordinates of Toronto are 43.6534817, -79.3839347.\n"
     ]
    }
   ],
   "source": [
    "# Checking coordinates of Toronto\n",
    "address = 'Toronto, ON'\n",
    "\n",
    "geolocator = Nominatim(user_agent=\"ny_explorer\")\n",
    "location = geolocator.geocode(address)\n",
    "latitude = location.latitude\n",
    "longitude = location.longitude\n",
    "print('The geograpical coordinates of Toronto are {}, {}.'.format(latitude, longitude))"
   ]
  },
  {
   "cell_type": "code",
   "execution_count": 173,
   "metadata": {},
   "outputs": [
    {
     "data": {
      "text/html": [
       "<div>\n",
       "<style scoped>\n",
       "    .dataframe tbody tr th:only-of-type {\n",
       "        vertical-align: middle;\n",
       "    }\n",
       "\n",
       "    .dataframe tbody tr th {\n",
       "        vertical-align: top;\n",
       "    }\n",
       "\n",
       "    .dataframe thead th {\n",
       "        text-align: right;\n",
       "    }\n",
       "</style>\n",
       "<table border=\"1\" class=\"dataframe\">\n",
       "  <thead>\n",
       "    <tr style=\"text-align: right;\">\n",
       "      <th></th>\n",
       "      <th>Postal Code</th>\n",
       "      <th>Borough</th>\n",
       "      <th>Neighbourhood</th>\n",
       "    </tr>\n",
       "  </thead>\n",
       "  <tbody>\n",
       "    <tr>\n",
       "      <th>0</th>\n",
       "      <td>M3A</td>\n",
       "      <td>North York</td>\n",
       "      <td>Parkwoods</td>\n",
       "    </tr>\n",
       "    <tr>\n",
       "      <th>1</th>\n",
       "      <td>M4A</td>\n",
       "      <td>North York</td>\n",
       "      <td>Victoria Village</td>\n",
       "    </tr>\n",
       "    <tr>\n",
       "      <th>2</th>\n",
       "      <td>M5A</td>\n",
       "      <td>Downtown Toronto</td>\n",
       "      <td>Regent Park, Harbourfront</td>\n",
       "    </tr>\n",
       "    <tr>\n",
       "      <th>3</th>\n",
       "      <td>M6A</td>\n",
       "      <td>North York</td>\n",
       "      <td>Lawrence Manor, Lawrence Heights</td>\n",
       "    </tr>\n",
       "    <tr>\n",
       "      <th>4</th>\n",
       "      <td>M7A</td>\n",
       "      <td>Downtown Toronto</td>\n",
       "      <td>Queen's Park, Ontario Provincial Government</td>\n",
       "    </tr>\n",
       "  </tbody>\n",
       "</table>\n",
       "</div>"
      ],
      "text/plain": [
       "  Postal Code           Borough                                Neighbourhood\n",
       "0         M3A        North York                                    Parkwoods\n",
       "1         M4A        North York                             Victoria Village\n",
       "2         M5A  Downtown Toronto                    Regent Park, Harbourfront\n",
       "3         M6A        North York             Lawrence Manor, Lawrence Heights\n",
       "4         M7A  Downtown Toronto  Queen's Park, Ontario Provincial Government"
      ]
     },
     "execution_count": 173,
     "metadata": {},
     "output_type": "execute_result"
    }
   ],
   "source": [
    "df2.head()"
   ]
  },
  {
   "cell_type": "code",
   "execution_count": 178,
   "metadata": {},
   "outputs": [
    {
     "data": {
      "text/plain": [
       "'M8Z'"
      ]
     },
     "execution_count": 178,
     "metadata": {},
     "output_type": "execute_result"
    }
   ],
   "source": [
    "df2['Postal Code'][102]"
   ]
  },
  {
   "cell_type": "code",
   "execution_count": 258,
   "metadata": {},
   "outputs": [],
   "source": [
    "# For loop for the coordinates\n",
    "coor_dict={'Latitude':[],'Longitude':[]} # Creating an empty dictionary\n",
    "geolocator = Nominatim(user_agent=\"ny_explorer\") # Initializing geolocator\n",
    "\n",
    "for i in range(len(df2)): # Range of row number in dataframe\n",
    "    location = geolocator.geocode(df2['Borough'][i]) # Entering Borough name as an adress\n",
    "    coor_dict['Latitude'].append(location.latitude) # Adding latitute to dictionary\n",
    "    coor_dict['Longitude'].append(location.longitude) # Adding longitude to dictionary"
   ]
  },
  {
   "cell_type": "code",
   "execution_count": 259,
   "metadata": {
    "scrolled": true
   },
   "outputs": [
    {
     "data": {
      "text/plain": [
       "{'Latitude': [43.7543263,\n",
       "  43.7543263,\n",
       "  43.6541737,\n",
       "  43.7543263,\n",
       "  43.6541737,\n",
       "  43.6435559,\n",
       "  54.2820009,\n",
       "  43.7543263,\n",
       "  43.699971000000005,\n",
       "  43.6541737,\n",
       "  43.7543263,\n",
       "  43.6435559,\n",
       "  54.2820009,\n",
       "  43.7543263,\n",
       "  43.699971000000005,\n",
       "  43.6541737,\n",
       "  53.9590555,\n",
       "  43.6435559,\n",
       "  54.2820009,\n",
       "  43.72178945,\n",
       "  43.6541737,\n",
       "  53.9590555,\n",
       "  54.2820009,\n",
       "  43.699971000000005,\n",
       "  43.6541737,\n",
       "  43.6541737,\n",
       "  54.2820009,\n",
       "  43.7543263,\n",
       "  43.7543263,\n",
       "  43.699971000000005,\n",
       "  43.6541737,\n",
       "  43.6534817,\n",
       "  54.2820009,\n",
       "  43.7543263,\n",
       "  43.7543263,\n",
       "  43.699971000000005,\n",
       "  43.6541737,\n",
       "  43.6534817,\n",
       "  54.2820009,\n",
       "  43.7543263,\n",
       "  43.7543263,\n",
       "  43.72178945,\n",
       "  43.6541737,\n",
       "  43.6534817,\n",
       "  54.2820009,\n",
       "  43.7543263,\n",
       "  43.7543263,\n",
       "  43.72178945,\n",
       "  43.6541737,\n",
       "  43.7543263,\n",
       "  43.7543263,\n",
       "  54.2820009,\n",
       "  43.7543263,\n",
       "  43.7543263,\n",
       "  43.72178945,\n",
       "  43.7543263,\n",
       "  53.9590555,\n",
       "  43.7543263,\n",
       "  54.2820009,\n",
       "  43.7543263,\n",
       "  43.7543263,\n",
       "  43.6534817,\n",
       "  43.6534817,\n",
       "  53.9590555,\n",
       "  53.9590555,\n",
       "  54.2820009,\n",
       "  43.7543263,\n",
       "  43.6534817,\n",
       "  43.6534817,\n",
       "  43.6534817,\n",
       "  43.6435559,\n",
       "  54.2820009,\n",
       "  43.7543263,\n",
       "  43.6534817,\n",
       "  43.6534817,\n",
       "  43.6534817,\n",
       "  43.5896231,\n",
       "  43.6435559,\n",
       "  54.2820009,\n",
       "  43.6534817,\n",
       "  43.6541737,\n",
       "  43.6534817,\n",
       "  54.2820009,\n",
       "  43.6534817,\n",
       "  43.6541737,\n",
       "  54.2820009,\n",
       "  43.6534817,\n",
       "  43.6541737,\n",
       "  43.6435559,\n",
       "  43.6435559,\n",
       "  54.2820009,\n",
       "  43.6541737,\n",
       "  43.6541737,\n",
       "  43.6435559,\n",
       "  43.6435559,\n",
       "  54.2820009,\n",
       "  43.6541737,\n",
       "  43.6541737,\n",
       "  43.6435559,\n",
       "  43.6541737,\n",
       "  43.72178945,\n",
       "  43.6435559,\n",
       "  43.6435559],\n",
       " 'Longitude': [-79.44911696639593,\n",
       "  -79.44911696639593,\n",
       "  -79.38081164513409,\n",
       "  -79.44911696639593,\n",
       "  -79.38081164513409,\n",
       "  -79.5656326,\n",
       "  -0.4011868,\n",
       "  -79.44911696639593,\n",
       "  -79.33251996261595,\n",
       "  -79.38081164513409,\n",
       "  -79.44911696639593,\n",
       "  -79.5656326,\n",
       "  -0.4011868,\n",
       "  -79.44911696639593,\n",
       "  -79.33251996261595,\n",
       "  -79.38081164513409,\n",
       "  -1.0815361,\n",
       "  -79.5656326,\n",
       "  -0.4011868,\n",
       "  -79.37402706301704,\n",
       "  -79.38081164513409,\n",
       "  -1.0815361,\n",
       "  -0.4011868,\n",
       "  -79.33251996261595,\n",
       "  -79.38081164513409,\n",
       "  -79.38081164513409,\n",
       "  -0.4011868,\n",
       "  -79.44911696639593,\n",
       "  -79.44911696639593,\n",
       "  -79.33251996261595,\n",
       "  -79.38081164513409,\n",
       "  -79.3839347,\n",
       "  -0.4011868,\n",
       "  -79.44911696639593,\n",
       "  -79.44911696639593,\n",
       "  -79.33251996261595,\n",
       "  -79.38081164513409,\n",
       "  -79.3839347,\n",
       "  -0.4011868,\n",
       "  -79.44911696639593,\n",
       "  -79.44911696639593,\n",
       "  -79.37402706301704,\n",
       "  -79.38081164513409,\n",
       "  -79.3839347,\n",
       "  -0.4011868,\n",
       "  -79.44911696639593,\n",
       "  -79.44911696639593,\n",
       "  -79.37402706301704,\n",
       "  -79.38081164513409,\n",
       "  -79.44911696639593,\n",
       "  -79.44911696639593,\n",
       "  -0.4011868,\n",
       "  -79.44911696639593,\n",
       "  -79.44911696639593,\n",
       "  -79.37402706301704,\n",
       "  -79.44911696639593,\n",
       "  -1.0815361,\n",
       "  -79.44911696639593,\n",
       "  -0.4011868,\n",
       "  -79.44911696639593,\n",
       "  -79.44911696639593,\n",
       "  -79.3839347,\n",
       "  -79.3839347,\n",
       "  -1.0815361,\n",
       "  -1.0815361,\n",
       "  -0.4011868,\n",
       "  -79.44911696639593,\n",
       "  -79.3839347,\n",
       "  -79.3839347,\n",
       "  -79.3839347,\n",
       "  -79.5656326,\n",
       "  -0.4011868,\n",
       "  -79.44911696639593,\n",
       "  -79.3839347,\n",
       "  -79.3839347,\n",
       "  -79.3839347,\n",
       "  -79.6443879,\n",
       "  -79.5656326,\n",
       "  -0.4011868,\n",
       "  -79.3839347,\n",
       "  -79.38081164513409,\n",
       "  -79.3839347,\n",
       "  -0.4011868,\n",
       "  -79.3839347,\n",
       "  -79.38081164513409,\n",
       "  -0.4011868,\n",
       "  -79.3839347,\n",
       "  -79.38081164513409,\n",
       "  -79.5656326,\n",
       "  -79.5656326,\n",
       "  -0.4011868,\n",
       "  -79.38081164513409,\n",
       "  -79.38081164513409,\n",
       "  -79.5656326,\n",
       "  -79.5656326,\n",
       "  -0.4011868,\n",
       "  -79.38081164513409,\n",
       "  -79.38081164513409,\n",
       "  -79.5656326,\n",
       "  -79.38081164513409,\n",
       "  -79.37402706301704,\n",
       "  -79.5656326,\n",
       "  -79.5656326]}"
      ]
     },
     "execution_count": 259,
     "metadata": {},
     "output_type": "execute_result"
    }
   ],
   "source": [
    "# Cheking dictionary\n",
    "coor_dict"
   ]
  },
  {
   "cell_type": "code",
   "execution_count": 254,
   "metadata": {},
   "outputs": [
    {
     "data": {
      "text/html": [
       "<div>\n",
       "<style scoped>\n",
       "    .dataframe tbody tr th:only-of-type {\n",
       "        vertical-align: middle;\n",
       "    }\n",
       "\n",
       "    .dataframe tbody tr th {\n",
       "        vertical-align: top;\n",
       "    }\n",
       "\n",
       "    .dataframe thead th {\n",
       "        text-align: right;\n",
       "    }\n",
       "</style>\n",
       "<table border=\"1\" class=\"dataframe\">\n",
       "  <thead>\n",
       "    <tr style=\"text-align: right;\">\n",
       "      <th></th>\n",
       "      <th>Latitude</th>\n",
       "      <th>Longitude</th>\n",
       "    </tr>\n",
       "  </thead>\n",
       "  <tbody>\n",
       "    <tr>\n",
       "      <th>0</th>\n",
       "      <td>43.754326</td>\n",
       "      <td>-79.449117</td>\n",
       "    </tr>\n",
       "    <tr>\n",
       "      <th>1</th>\n",
       "      <td>43.754326</td>\n",
       "      <td>-79.449117</td>\n",
       "    </tr>\n",
       "    <tr>\n",
       "      <th>2</th>\n",
       "      <td>43.654174</td>\n",
       "      <td>-79.380812</td>\n",
       "    </tr>\n",
       "    <tr>\n",
       "      <th>3</th>\n",
       "      <td>43.754326</td>\n",
       "      <td>-79.449117</td>\n",
       "    </tr>\n",
       "    <tr>\n",
       "      <th>4</th>\n",
       "      <td>43.654174</td>\n",
       "      <td>-79.380812</td>\n",
       "    </tr>\n",
       "  </tbody>\n",
       "</table>\n",
       "</div>"
      ],
      "text/plain": [
       "    Latitude  Longitude\n",
       "0  43.754326 -79.449117\n",
       "1  43.754326 -79.449117\n",
       "2  43.654174 -79.380812\n",
       "3  43.754326 -79.449117\n",
       "4  43.654174 -79.380812"
      ]
     },
     "execution_count": 254,
     "metadata": {},
     "output_type": "execute_result"
    }
   ],
   "source": [
    "# From dictionary to dataframe\n",
    "pd.DataFrame(coor_dict).head()"
   ]
  },
  {
   "cell_type": "code",
   "execution_count": 255,
   "metadata": {},
   "outputs": [],
   "source": [
    "# Adding dictionary to dataframe as new columns, assigning as df3\n",
    "df3 = pd.concat([df2,pd.DataFrame(coor_dict)], axis=1)"
   ]
  },
  {
   "cell_type": "code",
   "execution_count": 261,
   "metadata": {},
   "outputs": [
    {
     "data": {
      "text/plain": [
       "(103, 5)"
      ]
     },
     "execution_count": 261,
     "metadata": {},
     "output_type": "execute_result"
    }
   ],
   "source": [
    "df3.shape"
   ]
  },
  {
   "cell_type": "code",
   "execution_count": 262,
   "metadata": {},
   "outputs": [
    {
     "name": "stdout",
     "output_type": "stream",
     "text": [
      "<class 'pandas.core.frame.DataFrame'>\n",
      "RangeIndex: 103 entries, 0 to 102\n",
      "Data columns (total 5 columns):\n",
      " #   Column         Non-Null Count  Dtype  \n",
      "---  ------         --------------  -----  \n",
      " 0   Postal Code    103 non-null    object \n",
      " 1   Borough        103 non-null    object \n",
      " 2   Neighbourhood  103 non-null    object \n",
      " 3   Latitude       103 non-null    float64\n",
      " 4   Longitude      103 non-null    float64\n",
      "dtypes: float64(2), object(3)\n",
      "memory usage: 4.1+ KB\n"
     ]
    }
   ],
   "source": [
    "df3.info()"
   ]
  },
  {
   "cell_type": "code",
   "execution_count": 257,
   "metadata": {},
   "outputs": [
    {
     "data": {
      "text/html": [
       "<div>\n",
       "<style scoped>\n",
       "    .dataframe tbody tr th:only-of-type {\n",
       "        vertical-align: middle;\n",
       "    }\n",
       "\n",
       "    .dataframe tbody tr th {\n",
       "        vertical-align: top;\n",
       "    }\n",
       "\n",
       "    .dataframe thead th {\n",
       "        text-align: right;\n",
       "    }\n",
       "</style>\n",
       "<table border=\"1\" class=\"dataframe\">\n",
       "  <thead>\n",
       "    <tr style=\"text-align: right;\">\n",
       "      <th></th>\n",
       "      <th>Postal Code</th>\n",
       "      <th>Borough</th>\n",
       "      <th>Neighbourhood</th>\n",
       "      <th>Latitude</th>\n",
       "      <th>Longitude</th>\n",
       "    </tr>\n",
       "  </thead>\n",
       "  <tbody>\n",
       "    <tr>\n",
       "      <th>0</th>\n",
       "      <td>M3A</td>\n",
       "      <td>North York</td>\n",
       "      <td>Parkwoods</td>\n",
       "      <td>43.754326</td>\n",
       "      <td>-79.449117</td>\n",
       "    </tr>\n",
       "    <tr>\n",
       "      <th>1</th>\n",
       "      <td>M4A</td>\n",
       "      <td>North York</td>\n",
       "      <td>Victoria Village</td>\n",
       "      <td>43.754326</td>\n",
       "      <td>-79.449117</td>\n",
       "    </tr>\n",
       "    <tr>\n",
       "      <th>2</th>\n",
       "      <td>M5A</td>\n",
       "      <td>Downtown Toronto</td>\n",
       "      <td>Regent Park, Harbourfront</td>\n",
       "      <td>43.654174</td>\n",
       "      <td>-79.380812</td>\n",
       "    </tr>\n",
       "    <tr>\n",
       "      <th>3</th>\n",
       "      <td>M6A</td>\n",
       "      <td>North York</td>\n",
       "      <td>Lawrence Manor, Lawrence Heights</td>\n",
       "      <td>43.754326</td>\n",
       "      <td>-79.449117</td>\n",
       "    </tr>\n",
       "    <tr>\n",
       "      <th>4</th>\n",
       "      <td>M7A</td>\n",
       "      <td>Downtown Toronto</td>\n",
       "      <td>Queen's Park, Ontario Provincial Government</td>\n",
       "      <td>43.654174</td>\n",
       "      <td>-79.380812</td>\n",
       "    </tr>\n",
       "  </tbody>\n",
       "</table>\n",
       "</div>"
      ],
      "text/plain": [
       "  Postal Code           Borough                                Neighbourhood  \\\n",
       "0         M3A        North York                                    Parkwoods   \n",
       "1         M4A        North York                             Victoria Village   \n",
       "2         M5A  Downtown Toronto                    Regent Park, Harbourfront   \n",
       "3         M6A        North York             Lawrence Manor, Lawrence Heights   \n",
       "4         M7A  Downtown Toronto  Queen's Park, Ontario Provincial Government   \n",
       "\n",
       "    Latitude  Longitude  \n",
       "0  43.754326 -79.449117  \n",
       "1  43.754326 -79.449117  \n",
       "2  43.654174 -79.380812  \n",
       "3  43.754326 -79.449117  \n",
       "4  43.654174 -79.380812  "
      ]
     },
     "execution_count": 257,
     "metadata": {},
     "output_type": "execute_result"
    }
   ],
   "source": [
    "# New dataframe\n",
    "df3.head()"
   ]
  },
  {
   "cell_type": "markdown",
   "metadata": {},
   "source": [
    "*This is end of Part 2*"
   ]
  },
  {
   "cell_type": "markdown",
   "metadata": {},
   "source": [
    "## Part 3"
   ]
  },
  {
   "cell_type": "markdown",
   "metadata": {},
   "source": [
    "### Geopy library to get coordinates of Toronto"
   ]
  },
  {
   "cell_type": "code",
   "execution_count": 273,
   "metadata": {},
   "outputs": [
    {
     "name": "stdout",
     "output_type": "stream",
     "text": [
      "The geograpical coordinates of Toronto are 43.6534817, -79.3839347.\n"
     ]
    }
   ],
   "source": [
    "# Getting coordinates of Toronto\n",
    "address = 'Toronto, ON'\n",
    "\n",
    "geolocator = Nominatim(user_agent=\"ny_explorer\")\n",
    "location = geolocator.geocode(address)\n",
    "latitude = location.latitude\n",
    "longitude = location.longitude\n",
    "print('The geograpical coordinates of Toronto are {}, {}.'.format(latitude, longitude))"
   ]
  },
  {
   "cell_type": "markdown",
   "metadata": {},
   "source": [
    "### Map of Toronto with Neighbourhoods markers"
   ]
  },
  {
   "cell_type": "code",
   "execution_count": 270,
   "metadata": {},
   "outputs": [],
   "source": [
    "# Importing folium for map\n",
    "import folium"
   ]
  },
  {
   "cell_type": "code",
   "execution_count": 277,
   "metadata": {},
   "outputs": [
    {
     "data": {
      "text/html": [
       "<div style=\"width:100%;\"><div style=\"position:relative;width:100%;height:0;padding-bottom:60%;\"><span style=\"color:#565656\">Make this Notebook Trusted to load map: File -> Trust Notebook</span><iframe src=\"about:blank\" style=\"position:absolute;width:100%;height:100%;left:0;top:0;border:none !important;\" data-html=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 onload=\"this.contentDocument.open();this.contentDocument.write(atob(this.getAttribute('data-html')));this.contentDocument.close();\" allowfullscreen webkitallowfullscreen mozallowfullscreen></iframe></div></div>"
      ],
      "text/plain": [
       "<folium.folium.Map at 0x2aa55d100a0>"
      ]
     },
     "execution_count": 277,
     "metadata": {},
     "output_type": "execute_result"
    }
   ],
   "source": [
    "# create map of Toronto using latitude and longitude values\n",
    "map_toronto = folium.Map(location=[latitude, longitude], zoom_start=10)\n",
    "\n",
    "# add markers to map\n",
    "for lat, lng, borough, neighborhood in zip(df3['Latitude'], df3['Longitude'], df3['Borough'], df3['Neighbourhood']):\n",
    "    label = '{}, {}'.format(neighborhood, borough)\n",
    "    label = folium.Popup(label, parse_html=True)\n",
    "    folium.CircleMarker(\n",
    "        [lat, lng],\n",
    "        radius=5,\n",
    "        popup=label,\n",
    "        color='blue',\n",
    "        fill=True,\n",
    "        fill_color='#3186cc',\n",
    "        fill_opacity=0.7).add_to(map_toronto)  \n",
    "    \n",
    "map_toronto"
   ]
  },
  {
   "cell_type": "markdown",
   "metadata": {},
   "source": [
    "### Filtering boroughs containing word Toronto"
   ]
  },
  {
   "cell_type": "code",
   "execution_count": 285,
   "metadata": {},
   "outputs": [
    {
     "data": {
      "text/plain": [
       "['Downtown Toronto', 'East Toronto', 'West Toronto', 'Central Toronto']"
      ]
     },
     "execution_count": 285,
     "metadata": {},
     "output_type": "execute_result"
    }
   ],
   "source": [
    "# filter borough names that contain the word Toronto\n",
    "borough_names = df3['Borough'].unique().tolist()\n",
    "\n",
    "borough_toronto = []\n",
    "\n",
    "for i in borough_names:\n",
    "    if \"toronto\" in i.lower():\n",
    "        borough_toronto.append(i)\n",
    "        \n",
    "borough_toronto"
   ]
  },
  {
   "cell_type": "code",
   "execution_count": 288,
   "metadata": {},
   "outputs": [
    {
     "name": "stderr",
     "output_type": "stream",
     "text": [
      "<ipython-input-288-471a5d367741>:2: UserWarning: Boolean Series key will be reindexed to match DataFrame index.\n",
      "  df4 = df[df3['Borough'].isin(borough_toronto)]#.reset_index(drop=True)\n"
     ]
    },
    {
     "ename": "IndexingError",
     "evalue": "Unalignable boolean Series provided as indexer (index of the boolean Series and of the indexed object do not match).",
     "output_type": "error",
     "traceback": [
      "\u001b[1;31m---------------------------------------------------------------------------\u001b[0m",
      "\u001b[1;31mIndexingError\u001b[0m                             Traceback (most recent call last)",
      "\u001b[1;32m<ipython-input-288-471a5d367741>\u001b[0m in \u001b[0;36m<module>\u001b[1;34m\u001b[0m\n\u001b[0;32m      1\u001b[0m \u001b[1;31m# create a new DataFrame with only boroughs that contain the word Toronto\u001b[0m\u001b[1;33m\u001b[0m\u001b[1;33m\u001b[0m\u001b[1;33m\u001b[0m\u001b[0m\n\u001b[1;32m----> 2\u001b[1;33m \u001b[0mdf4\u001b[0m \u001b[1;33m=\u001b[0m \u001b[0mdf\u001b[0m\u001b[1;33m[\u001b[0m\u001b[0mdf3\u001b[0m\u001b[1;33m[\u001b[0m\u001b[1;34m'Borough'\u001b[0m\u001b[1;33m]\u001b[0m\u001b[1;33m.\u001b[0m\u001b[0misin\u001b[0m\u001b[1;33m(\u001b[0m\u001b[0mborough_toronto\u001b[0m\u001b[1;33m)\u001b[0m\u001b[1;33m]\u001b[0m\u001b[1;31m#.reset_index(drop=True)\u001b[0m\u001b[1;33m\u001b[0m\u001b[1;33m\u001b[0m\u001b[0m\n\u001b[0m\u001b[0;32m      3\u001b[0m \u001b[0mprint\u001b[0m\u001b[1;33m(\u001b[0m\u001b[0mdf4\u001b[0m\u001b[1;33m.\u001b[0m\u001b[0mshape\u001b[0m\u001b[1;33m)\u001b[0m\u001b[1;33m\u001b[0m\u001b[1;33m\u001b[0m\u001b[0m\n\u001b[0;32m      4\u001b[0m \u001b[0mdf4\u001b[0m\u001b[1;33m.\u001b[0m\u001b[0mhead\u001b[0m\u001b[1;33m(\u001b[0m\u001b[1;33m)\u001b[0m\u001b[1;33m\u001b[0m\u001b[1;33m\u001b[0m\u001b[0m\n",
      "\u001b[1;32m~\\anaconda3\\lib\\site-packages\\pandas\\core\\frame.py\u001b[0m in \u001b[0;36m__getitem__\u001b[1;34m(self, key)\u001b[0m\n\u001b[0;32m   2789\u001b[0m         \u001b[1;31m# Do we have a (boolean) 1d indexer?\u001b[0m\u001b[1;33m\u001b[0m\u001b[1;33m\u001b[0m\u001b[1;33m\u001b[0m\u001b[0m\n\u001b[0;32m   2790\u001b[0m         \u001b[1;32mif\u001b[0m \u001b[0mcom\u001b[0m\u001b[1;33m.\u001b[0m\u001b[0mis_bool_indexer\u001b[0m\u001b[1;33m(\u001b[0m\u001b[0mkey\u001b[0m\u001b[1;33m)\u001b[0m\u001b[1;33m:\u001b[0m\u001b[1;33m\u001b[0m\u001b[1;33m\u001b[0m\u001b[0m\n\u001b[1;32m-> 2791\u001b[1;33m             \u001b[1;32mreturn\u001b[0m \u001b[0mself\u001b[0m\u001b[1;33m.\u001b[0m\u001b[0m_getitem_bool_array\u001b[0m\u001b[1;33m(\u001b[0m\u001b[0mkey\u001b[0m\u001b[1;33m)\u001b[0m\u001b[1;33m\u001b[0m\u001b[1;33m\u001b[0m\u001b[0m\n\u001b[0m\u001b[0;32m   2792\u001b[0m \u001b[1;33m\u001b[0m\u001b[0m\n\u001b[0;32m   2793\u001b[0m         \u001b[1;31m# We are left with two options: a single key, and a collection of keys,\u001b[0m\u001b[1;33m\u001b[0m\u001b[1;33m\u001b[0m\u001b[1;33m\u001b[0m\u001b[0m\n",
      "\u001b[1;32m~\\anaconda3\\lib\\site-packages\\pandas\\core\\frame.py\u001b[0m in \u001b[0;36m_getitem_bool_array\u001b[1;34m(self, key)\u001b[0m\n\u001b[0;32m   2841\u001b[0m         \u001b[1;31m# check_bool_indexer will throw exception if Series key cannot\u001b[0m\u001b[1;33m\u001b[0m\u001b[1;33m\u001b[0m\u001b[1;33m\u001b[0m\u001b[0m\n\u001b[0;32m   2842\u001b[0m         \u001b[1;31m# be reindexed to match DataFrame rows\u001b[0m\u001b[1;33m\u001b[0m\u001b[1;33m\u001b[0m\u001b[1;33m\u001b[0m\u001b[0m\n\u001b[1;32m-> 2843\u001b[1;33m         \u001b[0mkey\u001b[0m \u001b[1;33m=\u001b[0m \u001b[0mcheck_bool_indexer\u001b[0m\u001b[1;33m(\u001b[0m\u001b[0mself\u001b[0m\u001b[1;33m.\u001b[0m\u001b[0mindex\u001b[0m\u001b[1;33m,\u001b[0m \u001b[0mkey\u001b[0m\u001b[1;33m)\u001b[0m\u001b[1;33m\u001b[0m\u001b[1;33m\u001b[0m\u001b[0m\n\u001b[0m\u001b[0;32m   2844\u001b[0m         \u001b[0mindexer\u001b[0m \u001b[1;33m=\u001b[0m \u001b[0mkey\u001b[0m\u001b[1;33m.\u001b[0m\u001b[0mnonzero\u001b[0m\u001b[1;33m(\u001b[0m\u001b[1;33m)\u001b[0m\u001b[1;33m[\u001b[0m\u001b[1;36m0\u001b[0m\u001b[1;33m]\u001b[0m\u001b[1;33m\u001b[0m\u001b[1;33m\u001b[0m\u001b[0m\n\u001b[0;32m   2845\u001b[0m         \u001b[1;32mreturn\u001b[0m \u001b[0mself\u001b[0m\u001b[1;33m.\u001b[0m\u001b[0m_take_with_is_copy\u001b[0m\u001b[1;33m(\u001b[0m\u001b[0mindexer\u001b[0m\u001b[1;33m,\u001b[0m \u001b[0maxis\u001b[0m\u001b[1;33m=\u001b[0m\u001b[1;36m0\u001b[0m\u001b[1;33m)\u001b[0m\u001b[1;33m\u001b[0m\u001b[1;33m\u001b[0m\u001b[0m\n",
      "\u001b[1;32m~\\anaconda3\\lib\\site-packages\\pandas\\core\\indexing.py\u001b[0m in \u001b[0;36mcheck_bool_indexer\u001b[1;34m(index, key)\u001b[0m\n\u001b[0;32m   2315\u001b[0m         \u001b[0mmask\u001b[0m \u001b[1;33m=\u001b[0m \u001b[0misna\u001b[0m\u001b[1;33m(\u001b[0m\u001b[0mresult\u001b[0m\u001b[1;33m.\u001b[0m\u001b[0m_values\u001b[0m\u001b[1;33m)\u001b[0m\u001b[1;33m\u001b[0m\u001b[1;33m\u001b[0m\u001b[0m\n\u001b[0;32m   2316\u001b[0m         \u001b[1;32mif\u001b[0m \u001b[0mmask\u001b[0m\u001b[1;33m.\u001b[0m\u001b[0many\u001b[0m\u001b[1;33m(\u001b[0m\u001b[1;33m)\u001b[0m\u001b[1;33m:\u001b[0m\u001b[1;33m\u001b[0m\u001b[1;33m\u001b[0m\u001b[0m\n\u001b[1;32m-> 2317\u001b[1;33m             raise IndexingError(\n\u001b[0m\u001b[0;32m   2318\u001b[0m                 \u001b[1;34m\"Unalignable boolean Series provided as \"\u001b[0m\u001b[1;33m\u001b[0m\u001b[1;33m\u001b[0m\u001b[0m\n\u001b[0;32m   2319\u001b[0m                 \u001b[1;34m\"indexer (index of the boolean Series and of \"\u001b[0m\u001b[1;33m\u001b[0m\u001b[1;33m\u001b[0m\u001b[0m\n",
      "\u001b[1;31mIndexingError\u001b[0m: Unalignable boolean Series provided as indexer (index of the boolean Series and of the indexed object do not match)."
     ]
    }
   ],
   "source": [
    "# create a new DataFrame with only boroughs that contain the word Toronto\n",
    "df4 = df[df3['Borough'].isin(borough_toronto)]#.reset_index(drop=True)\n",
    "print(df4.shape)\n",
    "df4.head()"
   ]
  },
  {
   "cell_type": "code",
   "execution_count": null,
   "metadata": {},
   "outputs": [],
   "source": []
  },
  {
   "cell_type": "code",
   "execution_count": null,
   "metadata": {},
   "outputs": [],
   "source": []
  },
  {
   "cell_type": "code",
   "execution_count": null,
   "metadata": {},
   "outputs": [],
   "source": []
  },
  {
   "cell_type": "code",
   "execution_count": null,
   "metadata": {},
   "outputs": [],
   "source": []
  },
  {
   "cell_type": "code",
   "execution_count": null,
   "metadata": {},
   "outputs": [],
   "source": []
  },
  {
   "cell_type": "code",
   "execution_count": 267,
   "metadata": {},
   "outputs": [],
   "source": [
    "# Importing Kmeans from sklearn\n",
    "from sklearn.cluster import KMeans"
   ]
  },
  {
   "cell_type": "code",
   "execution_count": 268,
   "metadata": {},
   "outputs": [
    {
     "data": {
      "text/plain": [
       "array([2, 2, 0, 2, 0, 4, 1, 2, 0, 0])"
      ]
     },
     "execution_count": 268,
     "metadata": {},
     "output_type": "execute_result"
    }
   ],
   "source": [
    "# set number of clusters\n",
    "kclusters = 5\n",
    "\n",
    "Toronto_clustering = pd.get_dummies(df3)\n",
    "\n",
    "# run k-means clustering\n",
    "kmeans = KMeans(n_clusters=kclusters, random_state=0).fit(Toronto_clustering)\n",
    "\n",
    "# check cluster labels generated for each row in the dataframe\n",
    "kmeans.labels_[0:10] "
   ]
  },
  {
   "cell_type": "code",
   "execution_count": null,
   "metadata": {},
   "outputs": [],
   "source": []
  }
 ],
 "metadata": {
  "kernelspec": {
   "display_name": "Python 3",
   "language": "python",
   "name": "python3"
  },
  "language_info": {
   "codemirror_mode": {
    "name": "ipython",
    "version": 3
   },
   "file_extension": ".py",
   "mimetype": "text/x-python",
   "name": "python",
   "nbconvert_exporter": "python",
   "pygments_lexer": "ipython3",
   "version": "3.8.3"
  }
 },
 "nbformat": 4,
 "nbformat_minor": 4
}
