{
 "cells": [
  {
   "cell_type": "markdown",
   "metadata": {},
   "source": [
    "# Coursera Capstone"
   ]
  },
  {
   "cell_type": "markdown",
   "metadata": {},
   "source": [
    "#### Importing Libraries"
   ]
  },
  {
   "cell_type": "code",
   "execution_count": 86,
   "metadata": {},
   "outputs": [],
   "source": [
    "import pandas as pd\n",
    "import numpy as np\n",
    "import seaborn as sns\n",
    "import matplotlib.pyplot as plt\n",
    "%matplotlib inline\n",
    "plt.style.use('ggplot')\n",
    "from geopy.geocoders import Nominatim # convert an address into latitude and longitude values "
   ]
  },
  {
   "cell_type": "markdown",
   "metadata": {},
   "source": [
    "### Checking Restaurant portion in London"
   ]
  },
  {
   "cell_type": "markdown",
   "metadata": {},
   "source": [
    "#### Loading Restaurant per 100,000 population data from csv file"
   ]
  },
  {
   "cell_type": "code",
   "execution_count": 53,
   "metadata": {},
   "outputs": [],
   "source": [
    " # Loading data\n",
    "rest= pd.read_csv('Number_of_restaurants_per_100,000_population_23062020.csv')"
   ]
  },
  {
   "cell_type": "code",
   "execution_count": 54,
   "metadata": {},
   "outputs": [
    {
     "data": {
      "text/html": [
       "<div>\n",
       "<style scoped>\n",
       "    .dataframe tbody tr th:only-of-type {\n",
       "        vertical-align: middle;\n",
       "    }\n",
       "\n",
       "    .dataframe tbody tr th {\n",
       "        vertical-align: top;\n",
       "    }\n",
       "\n",
       "    .dataframe thead th {\n",
       "        text-align: right;\n",
       "    }\n",
       "</style>\n",
       "<table border=\"1\" class=\"dataframe\">\n",
       "  <thead>\n",
       "    <tr style=\"text-align: right;\">\n",
       "      <th></th>\n",
       "      <th>City</th>\n",
       "      <th>Figure</th>\n",
       "      <th>Per capita</th>\n",
       "      <th>Date</th>\n",
       "      <th>Source</th>\n",
       "      <th>Notes</th>\n",
       "    </tr>\n",
       "  </thead>\n",
       "  <tbody>\n",
       "    <tr>\n",
       "      <th>0</th>\n",
       "      <td>Amsterdam</td>\n",
       "      <td>53.4</td>\n",
       "      <td>NaN</td>\n",
       "      <td>2013</td>\n",
       "      <td>Trade Association for Horeca and Catering</td>\n",
       "      <td>NaN</td>\n",
       "    </tr>\n",
       "    <tr>\n",
       "      <th>1</th>\n",
       "      <td>Austin</td>\n",
       "      <td>207.2</td>\n",
       "      <td>NaN</td>\n",
       "      <td>2018</td>\n",
       "      <td>Restaurant Guide - Austin Chronicle</td>\n",
       "      <td>NaN</td>\n",
       "    </tr>\n",
       "    <tr>\n",
       "      <th>2</th>\n",
       "      <td>Bogotá</td>\n",
       "      <td>418.6</td>\n",
       "      <td>NaN</td>\n",
       "      <td>2017</td>\n",
       "      <td>Cámara de Comercio de Bogotá</td>\n",
       "      <td>NaN</td>\n",
       "    </tr>\n",
       "    <tr>\n",
       "      <th>3</th>\n",
       "      <td>Brasília</td>\n",
       "      <td>8.2</td>\n",
       "      <td>NaN</td>\n",
       "      <td>2019</td>\n",
       "      <td>City of Brasilia</td>\n",
       "      <td>NaN</td>\n",
       "    </tr>\n",
       "    <tr>\n",
       "      <th>4</th>\n",
       "      <td>Brussels</td>\n",
       "      <td>360.4</td>\n",
       "      <td>NaN</td>\n",
       "      <td>2013</td>\n",
       "      <td>FOD Economie ADSEI</td>\n",
       "      <td>NaN</td>\n",
       "    </tr>\n",
       "  </tbody>\n",
       "</table>\n",
       "</div>"
      ],
      "text/plain": [
       "        City Figure  Per capita  Date  \\\n",
       "0  Amsterdam   53.4         NaN  2013   \n",
       "1     Austin  207.2         NaN  2018   \n",
       "2     Bogotá  418.6         NaN  2017   \n",
       "3   Brasília    8.2         NaN  2019   \n",
       "4   Brussels  360.4         NaN  2013   \n",
       "\n",
       "                                      Source Notes  \n",
       "0  Trade Association for Horeca and Catering   NaN  \n",
       "1        Restaurant Guide - Austin Chronicle   NaN  \n",
       "2               Cámara de Comercio de Bogotá   NaN  \n",
       "3                           City of Brasilia   NaN  \n",
       "4                         FOD Economie ADSEI   NaN  "
      ]
     },
     "execution_count": 54,
     "metadata": {},
     "output_type": "execute_result"
    }
   ],
   "source": [
    "rest.head()"
   ]
  },
  {
   "cell_type": "code",
   "execution_count": 55,
   "metadata": {},
   "outputs": [
    {
     "data": {
      "text/plain": [
       "(35, 6)"
      ]
     },
     "execution_count": 55,
     "metadata": {},
     "output_type": "execute_result"
    }
   ],
   "source": [
    "rest.shape"
   ]
  },
  {
   "cell_type": "code",
   "execution_count": 62,
   "metadata": {},
   "outputs": [
    {
     "name": "stdout",
     "output_type": "stream",
     "text": [
      "<class 'pandas.core.frame.DataFrame'>\n",
      "RangeIndex: 35 entries, 0 to 34\n",
      "Data columns (total 6 columns):\n",
      " #   Column      Non-Null Count  Dtype  \n",
      "---  ------      --------------  -----  \n",
      " 0   City        35 non-null     object \n",
      " 1   Figure      35 non-null     object \n",
      " 2   Per capita  0 non-null      float64\n",
      " 3   Date        35 non-null     int64  \n",
      " 4   Source      35 non-null     object \n",
      " 5   Notes       5 non-null      object \n",
      "dtypes: float64(1), int64(1), object(4)\n",
      "memory usage: 1.8+ KB\n"
     ]
    }
   ],
   "source": [
    "rest.info()"
   ]
  },
  {
   "cell_type": "code",
   "execution_count": 60,
   "metadata": {
    "scrolled": true
   },
   "outputs": [
    {
     "data": {
      "text/plain": [
       "0         Amsterdam\n",
       "1            Austin\n",
       "2            Bogotá\n",
       "3          Brasília\n",
       "4          Brussels\n",
       "5      Buenos Aires\n",
       "6            Dublin\n",
       "7         Edinburgh\n",
       "8         Guangzhou\n",
       "9          Helsinki\n",
       "10        Hong Kong\n",
       "11         Istanbul\n",
       "12     Johannesburg\n",
       "13           Lisbon\n",
       "14           London\n",
       "15      Los Angeles\n",
       "16           Madrid\n",
       "17        Melbourne\n",
       "18            Milan\n",
       "19         Montréal\n",
       "20           Moscow\n",
       "21          Nanjing\n",
       "22         New York\n",
       "23             Oslo\n",
       "24            Paris\n",
       "25             Rome\n",
       "26    San Francisco\n",
       "27            Seoul\n",
       "28         Shenzhen\n",
       "29        Singapore\n",
       "30        Stockholm\n",
       "31           Sydney\n",
       "32           Taipei\n",
       "33            Tokyo\n",
       "34          Toronto\n",
       "Name: City, dtype: object"
      ]
     },
     "execution_count": 60,
     "metadata": {},
     "output_type": "execute_result"
    }
   ],
   "source": [
    "rest.City"
   ]
  },
  {
   "cell_type": "code",
   "execution_count": 64,
   "metadata": {},
   "outputs": [
    {
     "data": {
      "text/plain": [
       "27.7       1\n",
       "418.6      1\n",
       "477.0      1\n",
       "290.8      1\n",
       "1,256.0    1\n",
       "59.4       1\n",
       "7.9        1\n",
       "95.2       1\n",
       "309.6      1\n",
       "212.0      1\n",
       "400.4      1\n",
       "457.4      1\n",
       "108.3      1\n",
       "848.2      1\n",
       "100.6      1\n",
       "366.6      1\n",
       "360.4      1\n",
       "132.4      1\n",
       "23.3       1\n",
       "200.3      1\n",
       "221.3      1\n",
       "24.8       1\n",
       "272.5      1\n",
       "128.5      1\n",
       "24.5       1\n",
       "636.2      1\n",
       "201.1      1\n",
       "200.1      1\n",
       "8.2        1\n",
       "32.0       1\n",
       "503.7      1\n",
       "1,099.5    1\n",
       "207.2      1\n",
       "53.4       1\n",
       "307.6      1\n",
       "Name: Figure, dtype: int64"
      ]
     },
     "execution_count": 64,
     "metadata": {},
     "output_type": "execute_result"
    }
   ],
   "source": [
    "rest['Figure'].value_counts()"
   ]
  },
  {
   "cell_type": "code",
   "execution_count": 71,
   "metadata": {},
   "outputs": [],
   "source": [
    "rest['Figure'] = rest['Figure'].str.replace(',','')"
   ]
  },
  {
   "cell_type": "code",
   "execution_count": 72,
   "metadata": {},
   "outputs": [
    {
     "data": {
      "text/plain": [
       "<bound method IndexOpsMixin.value_counts of 0       53.4\n",
       "1      207.2\n",
       "2      418.6\n",
       "3        8.2\n",
       "4      360.4\n",
       "5      221.3\n",
       "6       32.0\n",
       "7       27.7\n",
       "8      100.6\n",
       "9       23.3\n",
       "10     200.3\n",
       "11       7.9\n",
       "12     132.4\n",
       "13    1256.0\n",
       "14     201.1\n",
       "15     290.8\n",
       "16     200.1\n",
       "17      95.2\n",
       "18     636.2\n",
       "19     212.0\n",
       "20      24.5\n",
       "21     128.5\n",
       "22     309.6\n",
       "23      59.4\n",
       "24     366.6\n",
       "25     477.0\n",
       "26     457.4\n",
       "27     848.2\n",
       "28     503.7\n",
       "29      24.8\n",
       "30     108.3\n",
       "31     400.4\n",
       "32     307.6\n",
       "33    1099.5\n",
       "34     272.5\n",
       "Name: Figure, dtype: object>"
      ]
     },
     "execution_count": 72,
     "metadata": {},
     "output_type": "execute_result"
    }
   ],
   "source": [
    "rest['Figure'].value_counts"
   ]
  },
  {
   "cell_type": "code",
   "execution_count": 73,
   "metadata": {},
   "outputs": [],
   "source": [
    "rest['Figure'] = rest['Figure'].astype(float)"
   ]
  },
  {
   "cell_type": "code",
   "execution_count": 77,
   "metadata": {},
   "outputs": [],
   "source": [
    "rest.sort_values('Figure',ascending=False,inplace=True)"
   ]
  },
  {
   "cell_type": "code",
   "execution_count": 85,
   "metadata": {},
   "outputs": [
    {
     "data": {
      "image/png": "[encoded data removed]",
      "text/plain": [
       "<Figure size 720x432 with 1 Axes>"
      ]
     },
     "metadata": {},
     "output_type": "display_data"
    }
   ],
   "source": [
    "plt.figure(figsize=(10,6))\n",
    "sns.barplot(x=rest.City, y=rest.Figure)\n",
    "plt.xticks(rotation=90);"
   ]
  },
  {
   "cell_type": "code",
   "execution_count": 3,
   "metadata": {},
   "outputs": [
    {
     "name": "stdout",
     "output_type": "stream",
     "text": [
      "The geograpical coordinates of Toronto are 51.5073219, -0.1276474.\n"
     ]
    }
   ],
   "source": [
    "# Checking coordinates of Toronto\n",
    "address = 'London'\n",
    "\n",
    "geolocator = Nominatim(user_agent=\"ny_explorer\")\n",
    "location = geolocator.geocode(address)\n",
    "latitude = location.latitude\n",
    "longitude = location.longitude\n",
    "print('The geograpical coordinates of Toronto are {}, {}.'.format(latitude, longitude))"
   ]
  },
  {
   "cell_type": "code",
   "execution_count": 5,
   "metadata": {},
   "outputs": [],
   "source": [
    " # Loading data\n",
    "london= pd.read_html('https://en.wikipedia.org/wiki/List_of_areas_of_London')"
   ]
  },
  {
   "cell_type": "code",
   "execution_count": 7,
   "metadata": {},
   "outputs": [
    {
     "data": {
      "text/plain": [
       "list"
      ]
     },
     "execution_count": 7,
     "metadata": {},
     "output_type": "execute_result"
    }
   ],
   "source": [
    "type(london)"
   ]
  },
  {
   "cell_type": "code",
   "execution_count": 11,
   "metadata": {},
   "outputs": [
    {
     "data": {
      "text/html": [
       "<div>\n",
       "<style scoped>\n",
       "    .dataframe tbody tr th:only-of-type {\n",
       "        vertical-align: middle;\n",
       "    }\n",
       "\n",
       "    .dataframe tbody tr th {\n",
       "        vertical-align: top;\n",
       "    }\n",
       "\n",
       "    .dataframe thead th {\n",
       "        text-align: right;\n",
       "    }\n",
       "</style>\n",
       "<table border=\"1\" class=\"dataframe\">\n",
       "  <thead>\n",
       "    <tr style=\"text-align: right;\">\n",
       "      <th></th>\n",
       "      <th>Location</th>\n",
       "      <th>London borough</th>\n",
       "      <th>Post town</th>\n",
       "      <th>Postcode district</th>\n",
       "      <th>Dial code</th>\n",
       "      <th>OS grid ref</th>\n",
       "    </tr>\n",
       "  </thead>\n",
       "  <tbody>\n",
       "    <tr>\n",
       "      <th>0</th>\n",
       "      <td>Abbey Wood</td>\n",
       "      <td>Bexley, Greenwich [7]</td>\n",
       "      <td>LONDON</td>\n",
       "      <td>SE2</td>\n",
       "      <td>020</td>\n",
       "      <td>TQ465785</td>\n",
       "    </tr>\n",
       "    <tr>\n",
       "      <th>1</th>\n",
       "      <td>Acton</td>\n",
       "      <td>Ealing, Hammersmith and Fulham[8]</td>\n",
       "      <td>LONDON</td>\n",
       "      <td>W3, W4</td>\n",
       "      <td>020</td>\n",
       "      <td>TQ205805</td>\n",
       "    </tr>\n",
       "    <tr>\n",
       "      <th>2</th>\n",
       "      <td>Addington</td>\n",
       "      <td>Croydon[8]</td>\n",
       "      <td>CROYDON</td>\n",
       "      <td>CR0</td>\n",
       "      <td>020</td>\n",
       "      <td>TQ375645</td>\n",
       "    </tr>\n",
       "    <tr>\n",
       "      <th>3</th>\n",
       "      <td>Addiscombe</td>\n",
       "      <td>Croydon[8]</td>\n",
       "      <td>CROYDON</td>\n",
       "      <td>CR0</td>\n",
       "      <td>020</td>\n",
       "      <td>TQ345665</td>\n",
       "    </tr>\n",
       "    <tr>\n",
       "      <th>4</th>\n",
       "      <td>Albany Park</td>\n",
       "      <td>Bexley</td>\n",
       "      <td>BEXLEY, SIDCUP</td>\n",
       "      <td>DA5, DA14</td>\n",
       "      <td>020</td>\n",
       "      <td>TQ478728</td>\n",
       "    </tr>\n",
       "    <tr>\n",
       "      <th>...</th>\n",
       "      <td>...</td>\n",
       "      <td>...</td>\n",
       "      <td>...</td>\n",
       "      <td>...</td>\n",
       "      <td>...</td>\n",
       "      <td>...</td>\n",
       "    </tr>\n",
       "    <tr>\n",
       "      <th>527</th>\n",
       "      <td>Woolwich</td>\n",
       "      <td>Greenwich</td>\n",
       "      <td>LONDON</td>\n",
       "      <td>SE18</td>\n",
       "      <td>020</td>\n",
       "      <td>TQ435795</td>\n",
       "    </tr>\n",
       "    <tr>\n",
       "      <th>528</th>\n",
       "      <td>Worcester Park</td>\n",
       "      <td>Sutton, Kingston upon Thames</td>\n",
       "      <td>WORCESTER PARK</td>\n",
       "      <td>KT4</td>\n",
       "      <td>020</td>\n",
       "      <td>TQ225655</td>\n",
       "    </tr>\n",
       "    <tr>\n",
       "      <th>529</th>\n",
       "      <td>Wormwood Scrubs</td>\n",
       "      <td>Hammersmith and Fulham</td>\n",
       "      <td>LONDON</td>\n",
       "      <td>W12</td>\n",
       "      <td>020</td>\n",
       "      <td>TQ225815</td>\n",
       "    </tr>\n",
       "    <tr>\n",
       "      <th>530</th>\n",
       "      <td>Yeading</td>\n",
       "      <td>Hillingdon</td>\n",
       "      <td>HAYES</td>\n",
       "      <td>UB4</td>\n",
       "      <td>020</td>\n",
       "      <td>TQ115825</td>\n",
       "    </tr>\n",
       "    <tr>\n",
       "      <th>531</th>\n",
       "      <td>Yiewsley</td>\n",
       "      <td>Hillingdon</td>\n",
       "      <td>WEST DRAYTON</td>\n",
       "      <td>UB7</td>\n",
       "      <td>020</td>\n",
       "      <td>TQ063804</td>\n",
       "    </tr>\n",
       "  </tbody>\n",
       "</table>\n",
       "<p>532 rows × 6 columns</p>\n",
       "</div>"
      ],
      "text/plain": [
       "            Location                     London borough       Post town  \\\n",
       "0         Abbey Wood              Bexley, Greenwich [7]          LONDON   \n",
       "1              Acton  Ealing, Hammersmith and Fulham[8]          LONDON   \n",
       "2          Addington                         Croydon[8]         CROYDON   \n",
       "3         Addiscombe                         Croydon[8]         CROYDON   \n",
       "4        Albany Park                             Bexley  BEXLEY, SIDCUP   \n",
       "..               ...                                ...             ...   \n",
       "527         Woolwich                          Greenwich          LONDON   \n",
       "528   Worcester Park       Sutton, Kingston upon Thames  WORCESTER PARK   \n",
       "529  Wormwood Scrubs             Hammersmith and Fulham          LONDON   \n",
       "530          Yeading                         Hillingdon           HAYES   \n",
       "531         Yiewsley                         Hillingdon    WEST DRAYTON   \n",
       "\n",
       "    Postcode district Dial code OS grid ref  \n",
       "0                 SE2       020    TQ465785  \n",
       "1              W3, W4       020    TQ205805  \n",
       "2                 CR0       020    TQ375645  \n",
       "3                 CR0       020    TQ345665  \n",
       "4           DA5, DA14       020    TQ478728  \n",
       "..                ...       ...         ...  \n",
       "527              SE18       020    TQ435795  \n",
       "528               KT4       020    TQ225655  \n",
       "529               W12       020    TQ225815  \n",
       "530               UB4       020    TQ115825  \n",
       "531               UB7       020    TQ063804  \n",
       "\n",
       "[532 rows x 6 columns]"
      ]
     },
     "execution_count": 11,
     "metadata": {},
     "output_type": "execute_result"
    }
   ],
   "source": [
    "london[1]"
   ]
  },
  {
   "cell_type": "code",
   "execution_count": 12,
   "metadata": {},
   "outputs": [],
   "source": [
    "london_borough= london[1]"
   ]
  },
  {
   "cell_type": "code",
   "execution_count": 13,
   "metadata": {},
   "outputs": [
    {
     "data": {
      "text/plain": [
       "(532, 6)"
      ]
     },
     "execution_count": 13,
     "metadata": {},
     "output_type": "execute_result"
    }
   ],
   "source": [
    "london_borough.shape"
   ]
  },
  {
   "cell_type": "code",
   "execution_count": 14,
   "metadata": {},
   "outputs": [
    {
     "name": "stdout",
     "output_type": "stream",
     "text": [
      "<class 'pandas.core.frame.DataFrame'>\n",
      "RangeIndex: 532 entries, 0 to 531\n",
      "Data columns (total 6 columns):\n",
      " #   Column             Non-Null Count  Dtype \n",
      "---  ------             --------------  ----- \n",
      " 0   Location           532 non-null    object\n",
      " 1   London borough     532 non-null    object\n",
      " 2   Post town          532 non-null    object\n",
      " 3   Postcode district  532 non-null    object\n",
      " 4   Dial code          532 non-null    object\n",
      " 5   OS grid ref        530 non-null    object\n",
      "dtypes: object(6)\n",
      "memory usage: 25.1+ KB\n"
     ]
    }
   ],
   "source": [
    "london_borough.info()"
   ]
  },
  {
   "cell_type": "code",
   "execution_count": 17,
   "metadata": {},
   "outputs": [
    {
     "data": {
      "text/plain": [
       "Index(['Location', 'London borough', 'Post town', 'Postcode district',\n",
       "       'Dial code', 'OS grid ref'],\n",
       "      dtype='object')"
      ]
     },
     "execution_count": 17,
     "metadata": {},
     "output_type": "execute_result"
    }
   ],
   "source": [
    "london_borough.columns"
   ]
  },
  {
   "cell_type": "code",
   "execution_count": 32,
   "metadata": {},
   "outputs": [
    {
     "data": {
      "text/plain": [
       "CR0                9\n",
       "E14                8\n",
       "N1                 7\n",
       "E1                 7\n",
       "NW10               7\n",
       "                  ..\n",
       "SE21, SE26         1\n",
       "KT2                1\n",
       "N11, N10           1\n",
       "SW7                1\n",
       "SE9, DA14, DA15    1\n",
       "Name: Postcode district, Length: 282, dtype: int64"
      ]
     },
     "execution_count": 32,
     "metadata": {},
     "output_type": "execute_result"
    }
   ],
   "source": [
    "london_borough.iloc[:,3].value_counts()"
   ]
  },
  {
   "cell_type": "code",
   "execution_count": 37,
   "metadata": {},
   "outputs": [
    {
     "data": {
      "text/html": [
       "<div>\n",
       "<style scoped>\n",
       "    .dataframe tbody tr th:only-of-type {\n",
       "        vertical-align: middle;\n",
       "    }\n",
       "\n",
       "    .dataframe tbody tr th {\n",
       "        vertical-align: top;\n",
       "    }\n",
       "\n",
       "    .dataframe thead th {\n",
       "        text-align: right;\n",
       "    }\n",
       "</style>\n",
       "<table border=\"1\" class=\"dataframe\">\n",
       "  <thead>\n",
       "    <tr style=\"text-align: right;\">\n",
       "      <th></th>\n",
       "      <th>Location</th>\n",
       "      <th>London borough</th>\n",
       "      <th>Post town</th>\n",
       "      <th>Postcode district</th>\n",
       "      <th>Dial code</th>\n",
       "      <th>OS grid ref</th>\n",
       "    </tr>\n",
       "  </thead>\n",
       "  <tbody>\n",
       "    <tr>\n",
       "      <th>7</th>\n",
       "      <td>Aldwych</td>\n",
       "      <td>Westminster[10]</td>\n",
       "      <td>LONDON</td>\n",
       "      <td>WC2</td>\n",
       "      <td>020</td>\n",
       "      <td>TQ307810</td>\n",
       "    </tr>\n",
       "    <tr>\n",
       "      <th>87</th>\n",
       "      <td>Charing Cross</td>\n",
       "      <td>Westminster</td>\n",
       "      <td>LONDON</td>\n",
       "      <td>WC2</td>\n",
       "      <td>020</td>\n",
       "      <td>TQ305805</td>\n",
       "    </tr>\n",
       "    <tr>\n",
       "      <th>114</th>\n",
       "      <td>Covent Garden</td>\n",
       "      <td>Westminster</td>\n",
       "      <td>LONDON</td>\n",
       "      <td>WC2</td>\n",
       "      <td>020</td>\n",
       "      <td>TQ303809</td>\n",
       "    </tr>\n",
       "    <tr>\n",
       "      <th>430</th>\n",
       "      <td>St Giles</td>\n",
       "      <td>Camden</td>\n",
       "      <td>LONDON</td>\n",
       "      <td>WC2</td>\n",
       "      <td>020</td>\n",
       "      <td>TQ305815</td>\n",
       "    </tr>\n",
       "  </tbody>\n",
       "</table>\n",
       "</div>"
      ],
      "text/plain": [
       "          Location   London borough Post town Postcode district Dial code  \\\n",
       "7          Aldwych  Westminster[10]    LONDON               WC2       020   \n",
       "87   Charing Cross      Westminster    LONDON               WC2       020   \n",
       "114  Covent Garden      Westminster    LONDON               WC2       020   \n",
       "430       St Giles           Camden    LONDON               WC2       020   \n",
       "\n",
       "    OS grid ref  \n",
       "7      TQ307810  \n",
       "87     TQ305805  \n",
       "114    TQ303809  \n",
       "430    TQ305815  "
      ]
     },
     "execution_count": 37,
     "metadata": {},
     "output_type": "execute_result"
    }
   ],
   "source": [
    "london_borough[london_borough.iloc[:,3]=='WC2']"
   ]
  },
  {
   "cell_type": "code",
   "execution_count": 38,
   "metadata": {},
   "outputs": [
    {
     "data": {
      "text/html": [
       "<div>\n",
       "<style scoped>\n",
       "    .dataframe tbody tr th:only-of-type {\n",
       "        vertical-align: middle;\n",
       "    }\n",
       "\n",
       "    .dataframe tbody tr th {\n",
       "        vertical-align: top;\n",
       "    }\n",
       "\n",
       "    .dataframe thead th {\n",
       "        text-align: right;\n",
       "    }\n",
       "</style>\n",
       "<table border=\"1\" class=\"dataframe\">\n",
       "  <thead>\n",
       "    <tr style=\"text-align: right;\">\n",
       "      <th></th>\n",
       "      <th>Location</th>\n",
       "      <th>London borough</th>\n",
       "      <th>Post town</th>\n",
       "      <th>Postcode district</th>\n",
       "      <th>Dial code</th>\n",
       "      <th>OS grid ref</th>\n",
       "    </tr>\n",
       "  </thead>\n",
       "  <tbody>\n",
       "    <tr>\n",
       "      <th>54</th>\n",
       "      <td>Bloomsbury</td>\n",
       "      <td>Camden[29]</td>\n",
       "      <td>LONDON</td>\n",
       "      <td>WC1</td>\n",
       "      <td>020</td>\n",
       "      <td>TQ305825</td>\n",
       "    </tr>\n",
       "    <tr>\n",
       "      <th>268</th>\n",
       "      <td>King's Cross</td>\n",
       "      <td>Camden, Islington</td>\n",
       "      <td>LONDON</td>\n",
       "      <td>WC1</td>\n",
       "      <td>020</td>\n",
       "      <td>TQ315835</td>\n",
       "    </tr>\n",
       "    <tr>\n",
       "      <th>435</th>\n",
       "      <td>St Pancras</td>\n",
       "      <td>Camden</td>\n",
       "      <td>LONDON</td>\n",
       "      <td>WC1</td>\n",
       "      <td>020</td>\n",
       "      <td>TQ305825</td>\n",
       "    </tr>\n",
       "  </tbody>\n",
       "</table>\n",
       "</div>"
      ],
      "text/plain": [
       "         Location     London borough Post town Postcode district Dial code  \\\n",
       "54     Bloomsbury         Camden[29]    LONDON               WC1       020   \n",
       "268  King's Cross  Camden, Islington    LONDON               WC1       020   \n",
       "435    St Pancras             Camden    LONDON               WC1       020   \n",
       "\n",
       "    OS grid ref  \n",
       "54     TQ305825  \n",
       "268    TQ315835  \n",
       "435    TQ305825  "
      ]
     },
     "execution_count": 38,
     "metadata": {},
     "output_type": "execute_result"
    }
   ],
   "source": [
    "london_borough[london_borough.iloc[:,3]=='WC1']"
   ]
  },
  {
   "cell_type": "code",
   "execution_count": 41,
   "metadata": {},
   "outputs": [
    {
     "data": {
      "text/html": [
       "<div>\n",
       "<style scoped>\n",
       "    .dataframe tbody tr th:only-of-type {\n",
       "        vertical-align: middle;\n",
       "    }\n",
       "\n",
       "    .dataframe tbody tr th {\n",
       "        vertical-align: top;\n",
       "    }\n",
       "\n",
       "    .dataframe thead th {\n",
       "        text-align: right;\n",
       "    }\n",
       "</style>\n",
       "<table border=\"1\" class=\"dataframe\">\n",
       "  <thead>\n",
       "    <tr style=\"text-align: right;\">\n",
       "      <th></th>\n",
       "      <th>Location</th>\n",
       "      <th>London borough</th>\n",
       "      <th>Post town</th>\n",
       "      <th>Postcode district</th>\n",
       "      <th>Dial code</th>\n",
       "      <th>OS grid ref</th>\n",
       "    </tr>\n",
       "  </thead>\n",
       "  <tbody>\n",
       "    <tr>\n",
       "      <th>103</th>\n",
       "      <td>Clerkenwell</td>\n",
       "      <td>Islington</td>\n",
       "      <td>LONDON</td>\n",
       "      <td>EC1</td>\n",
       "      <td>020</td>\n",
       "      <td>TQ315825</td>\n",
       "    </tr>\n",
       "    <tr>\n",
       "      <th>168</th>\n",
       "      <td>Farringdon</td>\n",
       "      <td>Islington, City</td>\n",
       "      <td>LONDON</td>\n",
       "      <td>EC1</td>\n",
       "      <td>020</td>\n",
       "      <td>TQ315818</td>\n",
       "    </tr>\n",
       "    <tr>\n",
       "      <th>171</th>\n",
       "      <td>Finsbury</td>\n",
       "      <td>Islington</td>\n",
       "      <td>LONDON</td>\n",
       "      <td>EC1</td>\n",
       "      <td>020</td>\n",
       "      <td>TQ315825</td>\n",
       "    </tr>\n",
       "    <tr>\n",
       "      <th>433</th>\n",
       "      <td>St Luke's</td>\n",
       "      <td>Islington</td>\n",
       "      <td>LONDON</td>\n",
       "      <td>EC1</td>\n",
       "      <td>020</td>\n",
       "      <td>TQ325825</td>\n",
       "    </tr>\n",
       "  </tbody>\n",
       "</table>\n",
       "</div>"
      ],
      "text/plain": [
       "        Location   London borough Post town Postcode district Dial code  \\\n",
       "103  Clerkenwell        Islington    LONDON               EC1       020   \n",
       "168   Farringdon  Islington, City    LONDON               EC1       020   \n",
       "171     Finsbury        Islington    LONDON               EC1       020   \n",
       "433    St Luke's        Islington    LONDON               EC1       020   \n",
       "\n",
       "    OS grid ref  \n",
       "103    TQ315825  \n",
       "168    TQ315818  \n",
       "171    TQ315825  \n",
       "433    TQ325825  "
      ]
     },
     "execution_count": 41,
     "metadata": {},
     "output_type": "execute_result"
    }
   ],
   "source": [
    "london_borough[london_borough.iloc[:,3]=='EC1']"
   ]
  },
  {
   "cell_type": "code",
   "execution_count": 43,
   "metadata": {},
   "outputs": [
    {
     "data": {
      "text/html": [
       "<div>\n",
       "<style scoped>\n",
       "    .dataframe tbody tr th:only-of-type {\n",
       "        vertical-align: middle;\n",
       "    }\n",
       "\n",
       "    .dataframe tbody tr th {\n",
       "        vertical-align: top;\n",
       "    }\n",
       "\n",
       "    .dataframe thead th {\n",
       "        text-align: right;\n",
       "    }\n",
       "</style>\n",
       "<table border=\"1\" class=\"dataframe\">\n",
       "  <thead>\n",
       "    <tr style=\"text-align: right;\">\n",
       "      <th></th>\n",
       "      <th>Location</th>\n",
       "      <th>London borough</th>\n",
       "      <th>Post town</th>\n",
       "      <th>Postcode district</th>\n",
       "      <th>Dial code</th>\n",
       "      <th>OS grid ref</th>\n",
       "    </tr>\n",
       "  </thead>\n",
       "  <tbody>\n",
       "    <tr>\n",
       "      <th>49</th>\n",
       "      <td>Blackfriars</td>\n",
       "      <td>City[27]</td>\n",
       "      <td>LONDON</td>\n",
       "      <td>EC4</td>\n",
       "      <td>020</td>\n",
       "      <td>TQ318808</td>\n",
       "    </tr>\n",
       "  </tbody>\n",
       "</table>\n",
       "</div>"
      ],
      "text/plain": [
       "       Location London borough Post town Postcode district Dial code  \\\n",
       "49  Blackfriars       City[27]    LONDON               EC4       020   \n",
       "\n",
       "   OS grid ref  \n",
       "49    TQ318808  "
      ]
     },
     "execution_count": 43,
     "metadata": {},
     "output_type": "execute_result"
    }
   ],
   "source": [
    "london_borough[london_borough.iloc[:,3]=='EC4']"
   ]
  },
  {
   "cell_type": "code",
   "execution_count": null,
   "metadata": {},
   "outputs": [],
   "source": []
  }
 ],
 "metadata": {
  "kernelspec": {
   "display_name": "Python 3",
   "language": "python",
   "name": "python3"
  },
  "language_info": {
   "codemirror_mode": {
    "name": "ipython",
    "version": 3
   },
   "file_extension": ".py",
   "mimetype": "text/x-python",
   "name": "python",
   "nbconvert_exporter": "python",
   "pygments_lexer": "ipython3",
   "version": "3.8.3"
  }
 },
 "nbformat": 4,
 "nbformat_minor": 4
}
