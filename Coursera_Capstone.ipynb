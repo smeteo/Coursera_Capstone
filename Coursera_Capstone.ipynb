{
 "cells": [
  {
   "cell_type": "markdown",
   "metadata": {},
   "source": [
    "# Coursera Capstone"
   ]
  },
  {
   "cell_type": "markdown",
   "metadata": {},
   "source": [
    "#### Importing Libraries"
   ]
  },
  {
   "cell_type": "code",
   "execution_count": 154,
   "metadata": {},
   "outputs": [],
   "source": [
    "import pandas as pd\n",
    "import numpy as np\n",
    "import seaborn as sns\n",
    "import matplotlib.pyplot as plt\n",
    "%matplotlib inline\n",
    "import folium # map\n",
    "plt.style.use('ggplot')\n",
    "from geopy.geocoders import Nominatim # convert an address into latitude and longitude values "
   ]
  },
  {
   "cell_type": "markdown",
   "metadata": {},
   "source": [
    "### Checking Restaurant Number per 100,000 Population "
   ]
  },
  {
   "cell_type": "markdown",
   "metadata": {},
   "source": [
    "#### Loading  data from csv file"
   ]
  },
  {
   "cell_type": "code",
   "execution_count": 2,
   "metadata": {},
   "outputs": [],
   "source": [
    " # Loading data\n",
    "rest= pd.read_csv('Number_of_restaurants_per_100,000_population_23062020.csv')"
   ]
  },
  {
   "cell_type": "code",
   "execution_count": 3,
   "metadata": {},
   "outputs": [
    {
     "data": {
      "text/html": [
       "<div>\n",
       "<style scoped>\n",
       "    .dataframe tbody tr th:only-of-type {\n",
       "        vertical-align: middle;\n",
       "    }\n",
       "\n",
       "    .dataframe tbody tr th {\n",
       "        vertical-align: top;\n",
       "    }\n",
       "\n",
       "    .dataframe thead th {\n",
       "        text-align: right;\n",
       "    }\n",
       "</style>\n",
       "<table border=\"1\" class=\"dataframe\">\n",
       "  <thead>\n",
       "    <tr style=\"text-align: right;\">\n",
       "      <th></th>\n",
       "      <th>City</th>\n",
       "      <th>Figure</th>\n",
       "      <th>Per capita</th>\n",
       "      <th>Date</th>\n",
       "      <th>Source</th>\n",
       "      <th>Notes</th>\n",
       "    </tr>\n",
       "  </thead>\n",
       "  <tbody>\n",
       "    <tr>\n",
       "      <th>0</th>\n",
       "      <td>Amsterdam</td>\n",
       "      <td>53.4</td>\n",
       "      <td>NaN</td>\n",
       "      <td>2013</td>\n",
       "      <td>Trade Association for Horeca and Catering</td>\n",
       "      <td>NaN</td>\n",
       "    </tr>\n",
       "    <tr>\n",
       "      <th>1</th>\n",
       "      <td>Austin</td>\n",
       "      <td>207.2</td>\n",
       "      <td>NaN</td>\n",
       "      <td>2018</td>\n",
       "      <td>Restaurant Guide - Austin Chronicle</td>\n",
       "      <td>NaN</td>\n",
       "    </tr>\n",
       "    <tr>\n",
       "      <th>2</th>\n",
       "      <td>Bogotá</td>\n",
       "      <td>418.6</td>\n",
       "      <td>NaN</td>\n",
       "      <td>2017</td>\n",
       "      <td>Cámara de Comercio de Bogotá</td>\n",
       "      <td>NaN</td>\n",
       "    </tr>\n",
       "    <tr>\n",
       "      <th>3</th>\n",
       "      <td>Brasília</td>\n",
       "      <td>8.2</td>\n",
       "      <td>NaN</td>\n",
       "      <td>2019</td>\n",
       "      <td>City of Brasilia</td>\n",
       "      <td>NaN</td>\n",
       "    </tr>\n",
       "    <tr>\n",
       "      <th>4</th>\n",
       "      <td>Brussels</td>\n",
       "      <td>360.4</td>\n",
       "      <td>NaN</td>\n",
       "      <td>2013</td>\n",
       "      <td>FOD Economie ADSEI</td>\n",
       "      <td>NaN</td>\n",
       "    </tr>\n",
       "  </tbody>\n",
       "</table>\n",
       "</div>"
      ],
      "text/plain": [
       "        City Figure  Per capita  Date  \\\n",
       "0  Amsterdam   53.4         NaN  2013   \n",
       "1     Austin  207.2         NaN  2018   \n",
       "2     Bogotá  418.6         NaN  2017   \n",
       "3   Brasília    8.2         NaN  2019   \n",
       "4   Brussels  360.4         NaN  2013   \n",
       "\n",
       "                                      Source Notes  \n",
       "0  Trade Association for Horeca and Catering   NaN  \n",
       "1        Restaurant Guide - Austin Chronicle   NaN  \n",
       "2               Cámara de Comercio de Bogotá   NaN  \n",
       "3                           City of Brasilia   NaN  \n",
       "4                         FOD Economie ADSEI   NaN  "
      ]
     },
     "execution_count": 3,
     "metadata": {},
     "output_type": "execute_result"
    }
   ],
   "source": [
    "#Checking head\n",
    "rest.head()"
   ]
  },
  {
   "cell_type": "code",
   "execution_count": 4,
   "metadata": {},
   "outputs": [
    {
     "data": {
      "text/plain": [
       "(35, 6)"
      ]
     },
     "execution_count": 4,
     "metadata": {},
     "output_type": "execute_result"
    }
   ],
   "source": [
    "rest.shape"
   ]
  },
  {
   "cell_type": "code",
   "execution_count": 5,
   "metadata": {},
   "outputs": [
    {
     "name": "stdout",
     "output_type": "stream",
     "text": [
      "<class 'pandas.core.frame.DataFrame'>\n",
      "RangeIndex: 35 entries, 0 to 34\n",
      "Data columns (total 6 columns):\n",
      " #   Column      Non-Null Count  Dtype  \n",
      "---  ------      --------------  -----  \n",
      " 0   City        35 non-null     object \n",
      " 1   Figure      35 non-null     object \n",
      " 2   Per capita  0 non-null      float64\n",
      " 3   Date        35 non-null     int64  \n",
      " 4   Source      35 non-null     object \n",
      " 5   Notes       5 non-null      object \n",
      "dtypes: float64(1), int64(1), object(4)\n",
      "memory usage: 1.8+ KB\n"
     ]
    }
   ],
   "source": [
    "rest.info()"
   ]
  },
  {
   "cell_type": "code",
   "execution_count": 6,
   "metadata": {
    "scrolled": true
   },
   "outputs": [
    {
     "data": {
      "text/plain": [
       "0    Amsterdam\n",
       "1       Austin\n",
       "2       Bogotá\n",
       "3     Brasília\n",
       "4     Brussels\n",
       "Name: City, dtype: object"
      ]
     },
     "execution_count": 6,
     "metadata": {},
     "output_type": "execute_result"
    }
   ],
   "source": [
    "rest.City.head()"
   ]
  },
  {
   "cell_type": "code",
   "execution_count": 7,
   "metadata": {
    "scrolled": true
   },
   "outputs": [
    {
     "data": {
      "text/plain": [
       "59.4       1\n",
       "24.8       1\n",
       "100.6      1\n",
       "108.3      1\n",
       "290.8      1\n",
       "32.0       1\n",
       "24.5       1\n",
       "366.6      1\n",
       "132.4      1\n",
       "307.6      1\n",
       "207.2      1\n",
       "95.2       1\n",
       "27.7       1\n",
       "503.7      1\n",
       "200.3      1\n",
       "636.2      1\n",
       "360.4      1\n",
       "477.0      1\n",
       "200.1      1\n",
       "212.0      1\n",
       "221.3      1\n",
       "457.4      1\n",
       "128.5      1\n",
       "201.1      1\n",
       "23.3       1\n",
       "8.2        1\n",
       "53.4       1\n",
       "1,256.0    1\n",
       "7.9        1\n",
       "400.4      1\n",
       "848.2      1\n",
       "1,099.5    1\n",
       "309.6      1\n",
       "418.6      1\n",
       "272.5      1\n",
       "Name: Figure, dtype: int64"
      ]
     },
     "execution_count": 7,
     "metadata": {},
     "output_type": "execute_result"
    }
   ],
   "source": [
    "# Checking values of Figure column\n",
    "rest['Figure'].value_counts()"
   ]
  },
  {
   "cell_type": "markdown",
   "metadata": {},
   "source": [
    "_Figure Column is object. let's convert it into float in order to visualize_"
   ]
  },
  {
   "cell_type": "code",
   "execution_count": 8,
   "metadata": {},
   "outputs": [],
   "source": [
    "rest['Figure'] = rest['Figure'].str.replace(',','') #Removing ',' before converting that column into float\n",
    "rest['Figure'] = rest['Figure'].astype(float) # Converting Figure column into float"
   ]
  },
  {
   "cell_type": "code",
   "execution_count": 9,
   "metadata": {},
   "outputs": [],
   "source": [
    "rest.sort_values('Figure',ascending=False,inplace=True) # Sorting dataframe by Figure column"
   ]
  },
  {
   "cell_type": "markdown",
   "metadata": {},
   "source": [
    "_Visualizing figures by cities_"
   ]
  },
  {
   "cell_type": "code",
   "execution_count": 10,
   "metadata": {},
   "outputs": [
    {
     "data": {
      "image/png": "[encoded data removed]",
      "text/plain": [
       "<Figure size 720x432 with 1 Axes>"
      ]
     },
     "metadata": {},
     "output_type": "display_data"
    }
   ],
   "source": [
    "plt.figure(figsize=(10,6))\n",
    "sns.barplot(x=rest.City, y=rest.Figure)\n",
    "plt.xticks(rotation=90);"
   ]
  },
  {
   "cell_type": "markdown",
   "metadata": {},
   "source": [
    "## Extracting London District Data"
   ]
  },
  {
   "cell_type": "code",
   "execution_count": 11,
   "metadata": {},
   "outputs": [],
   "source": [
    "# Loading data\n",
    "london= pd.read_html('https://en.wikipedia.org/wiki/List_of_areas_of_London')"
   ]
  },
  {
   "cell_type": "code",
   "execution_count": 12,
   "metadata": {},
   "outputs": [
    {
     "data": {
      "text/plain": [
       "list"
      ]
     },
     "execution_count": 12,
     "metadata": {},
     "output_type": "execute_result"
    }
   ],
   "source": [
    "# Cheking type of output\n",
    "type(london) "
   ]
  },
  {
   "cell_type": "code",
   "execution_count": 13,
   "metadata": {},
   "outputs": [
    {
     "data": {
      "text/html": [
       "<div>\n",
       "<style scoped>\n",
       "    .dataframe tbody tr th:only-of-type {\n",
       "        vertical-align: middle;\n",
       "    }\n",
       "\n",
       "    .dataframe tbody tr th {\n",
       "        vertical-align: top;\n",
       "    }\n",
       "\n",
       "    .dataframe thead th {\n",
       "        text-align: right;\n",
       "    }\n",
       "</style>\n",
       "<table border=\"1\" class=\"dataframe\">\n",
       "  <thead>\n",
       "    <tr style=\"text-align: right;\">\n",
       "      <th></th>\n",
       "      <th>Location</th>\n",
       "      <th>London borough</th>\n",
       "      <th>Post town</th>\n",
       "      <th>Postcode district</th>\n",
       "      <th>Dial code</th>\n",
       "      <th>OS grid ref</th>\n",
       "    </tr>\n",
       "  </thead>\n",
       "  <tbody>\n",
       "    <tr>\n",
       "      <th>0</th>\n",
       "      <td>Abbey Wood</td>\n",
       "      <td>Bexley, Greenwich [7]</td>\n",
       "      <td>LONDON</td>\n",
       "      <td>SE2</td>\n",
       "      <td>020</td>\n",
       "      <td>TQ465785</td>\n",
       "    </tr>\n",
       "    <tr>\n",
       "      <th>1</th>\n",
       "      <td>Acton</td>\n",
       "      <td>Ealing, Hammersmith and Fulham[8]</td>\n",
       "      <td>LONDON</td>\n",
       "      <td>W3, W4</td>\n",
       "      <td>020</td>\n",
       "      <td>TQ205805</td>\n",
       "    </tr>\n",
       "    <tr>\n",
       "      <th>2</th>\n",
       "      <td>Addington</td>\n",
       "      <td>Croydon[8]</td>\n",
       "      <td>CROYDON</td>\n",
       "      <td>CR0</td>\n",
       "      <td>020</td>\n",
       "      <td>TQ375645</td>\n",
       "    </tr>\n",
       "    <tr>\n",
       "      <th>3</th>\n",
       "      <td>Addiscombe</td>\n",
       "      <td>Croydon[8]</td>\n",
       "      <td>CROYDON</td>\n",
       "      <td>CR0</td>\n",
       "      <td>020</td>\n",
       "      <td>TQ345665</td>\n",
       "    </tr>\n",
       "    <tr>\n",
       "      <th>4</th>\n",
       "      <td>Albany Park</td>\n",
       "      <td>Bexley</td>\n",
       "      <td>BEXLEY, SIDCUP</td>\n",
       "      <td>DA5, DA14</td>\n",
       "      <td>020</td>\n",
       "      <td>TQ478728</td>\n",
       "    </tr>\n",
       "    <tr>\n",
       "      <th>...</th>\n",
       "      <td>...</td>\n",
       "      <td>...</td>\n",
       "      <td>...</td>\n",
       "      <td>...</td>\n",
       "      <td>...</td>\n",
       "      <td>...</td>\n",
       "    </tr>\n",
       "    <tr>\n",
       "      <th>527</th>\n",
       "      <td>Woolwich</td>\n",
       "      <td>Greenwich</td>\n",
       "      <td>LONDON</td>\n",
       "      <td>SE18</td>\n",
       "      <td>020</td>\n",
       "      <td>TQ435795</td>\n",
       "    </tr>\n",
       "    <tr>\n",
       "      <th>528</th>\n",
       "      <td>Worcester Park</td>\n",
       "      <td>Sutton, Kingston upon Thames</td>\n",
       "      <td>WORCESTER PARK</td>\n",
       "      <td>KT4</td>\n",
       "      <td>020</td>\n",
       "      <td>TQ225655</td>\n",
       "    </tr>\n",
       "    <tr>\n",
       "      <th>529</th>\n",
       "      <td>Wormwood Scrubs</td>\n",
       "      <td>Hammersmith and Fulham</td>\n",
       "      <td>LONDON</td>\n",
       "      <td>W12</td>\n",
       "      <td>020</td>\n",
       "      <td>TQ225815</td>\n",
       "    </tr>\n",
       "    <tr>\n",
       "      <th>530</th>\n",
       "      <td>Yeading</td>\n",
       "      <td>Hillingdon</td>\n",
       "      <td>HAYES</td>\n",
       "      <td>UB4</td>\n",
       "      <td>020</td>\n",
       "      <td>TQ115825</td>\n",
       "    </tr>\n",
       "    <tr>\n",
       "      <th>531</th>\n",
       "      <td>Yiewsley</td>\n",
       "      <td>Hillingdon</td>\n",
       "      <td>WEST DRAYTON</td>\n",
       "      <td>UB7</td>\n",
       "      <td>020</td>\n",
       "      <td>TQ063804</td>\n",
       "    </tr>\n",
       "  </tbody>\n",
       "</table>\n",
       "<p>532 rows × 6 columns</p>\n",
       "</div>"
      ],
      "text/plain": [
       "            Location                     London borough       Post town  \\\n",
       "0         Abbey Wood              Bexley, Greenwich [7]          LONDON   \n",
       "1              Acton  Ealing, Hammersmith and Fulham[8]          LONDON   \n",
       "2          Addington                         Croydon[8]         CROYDON   \n",
       "3         Addiscombe                         Croydon[8]         CROYDON   \n",
       "4        Albany Park                             Bexley  BEXLEY, SIDCUP   \n",
       "..               ...                                ...             ...   \n",
       "527         Woolwich                          Greenwich          LONDON   \n",
       "528   Worcester Park       Sutton, Kingston upon Thames  WORCESTER PARK   \n",
       "529  Wormwood Scrubs             Hammersmith and Fulham          LONDON   \n",
       "530          Yeading                         Hillingdon           HAYES   \n",
       "531         Yiewsley                         Hillingdon    WEST DRAYTON   \n",
       "\n",
       "    Postcode district Dial code OS grid ref  \n",
       "0                 SE2       020    TQ465785  \n",
       "1              W3, W4       020    TQ205805  \n",
       "2                 CR0       020    TQ375645  \n",
       "3                 CR0       020    TQ345665  \n",
       "4           DA5, DA14       020    TQ478728  \n",
       "..                ...       ...         ...  \n",
       "527              SE18       020    TQ435795  \n",
       "528               KT4       020    TQ225655  \n",
       "529               W12       020    TQ225815  \n",
       "530               UB4       020    TQ115825  \n",
       "531               UB7       020    TQ063804  \n",
       "\n",
       "[532 rows x 6 columns]"
      ]
     },
     "execution_count": 13,
     "metadata": {},
     "output_type": "execute_result"
    }
   ],
   "source": [
    "# Second element in list\n",
    "london[1] "
   ]
  },
  {
   "cell_type": "code",
   "execution_count": 14,
   "metadata": {},
   "outputs": [],
   "source": [
    "# Assigning table to a variable\n",
    "london_dist= london[1] "
   ]
  },
  {
   "cell_type": "code",
   "execution_count": 15,
   "metadata": {},
   "outputs": [
    {
     "data": {
      "text/plain": [
       "(532, 6)"
      ]
     },
     "execution_count": 15,
     "metadata": {},
     "output_type": "execute_result"
    }
   ],
   "source": [
    "# Checking shape\n",
    "london_dist.shape "
   ]
  },
  {
   "cell_type": "code",
   "execution_count": 16,
   "metadata": {},
   "outputs": [
    {
     "name": "stdout",
     "output_type": "stream",
     "text": [
      "<class 'pandas.core.frame.DataFrame'>\n",
      "RangeIndex: 532 entries, 0 to 531\n",
      "Data columns (total 6 columns):\n",
      " #   Column             Non-Null Count  Dtype \n",
      "---  ------             --------------  ----- \n",
      " 0   Location           532 non-null    object\n",
      " 1   London borough     532 non-null    object\n",
      " 2   Post town          532 non-null    object\n",
      " 3   Postcode district  532 non-null    object\n",
      " 4   Dial code          532 non-null    object\n",
      " 5   OS grid ref        530 non-null    object\n",
      "dtypes: object(6)\n",
      "memory usage: 25.1+ KB\n"
     ]
    }
   ],
   "source": [
    "# Checking info\n",
    "london_dist.info()"
   ]
  },
  {
   "cell_type": "code",
   "execution_count": 45,
   "metadata": {},
   "outputs": [],
   "source": [
    "# Keeping only required columns\n",
    "london_dist = london_dist.iloc[:,[0]+[1]+[3]]"
   ]
  },
  {
   "cell_type": "code",
   "execution_count": 46,
   "metadata": {},
   "outputs": [
    {
     "data": {
      "text/html": [
       "<div>\n",
       "<style scoped>\n",
       "    .dataframe tbody tr th:only-of-type {\n",
       "        vertical-align: middle;\n",
       "    }\n",
       "\n",
       "    .dataframe tbody tr th {\n",
       "        vertical-align: top;\n",
       "    }\n",
       "\n",
       "    .dataframe thead th {\n",
       "        text-align: right;\n",
       "    }\n",
       "</style>\n",
       "<table border=\"1\" class=\"dataframe\">\n",
       "  <thead>\n",
       "    <tr style=\"text-align: right;\">\n",
       "      <th></th>\n",
       "      <th>Location</th>\n",
       "      <th>London borough</th>\n",
       "      <th>Postcode district</th>\n",
       "    </tr>\n",
       "  </thead>\n",
       "  <tbody>\n",
       "    <tr>\n",
       "      <th>0</th>\n",
       "      <td>Abbey Wood</td>\n",
       "      <td>Bexley, Greenwich [7]</td>\n",
       "      <td>SE2</td>\n",
       "    </tr>\n",
       "    <tr>\n",
       "      <th>1</th>\n",
       "      <td>Acton</td>\n",
       "      <td>Ealing, Hammersmith and Fulham[8]</td>\n",
       "      <td>W3, W4</td>\n",
       "    </tr>\n",
       "    <tr>\n",
       "      <th>2</th>\n",
       "      <td>Addington</td>\n",
       "      <td>Croydon[8]</td>\n",
       "      <td>CR0</td>\n",
       "    </tr>\n",
       "    <tr>\n",
       "      <th>3</th>\n",
       "      <td>Addiscombe</td>\n",
       "      <td>Croydon[8]</td>\n",
       "      <td>CR0</td>\n",
       "    </tr>\n",
       "    <tr>\n",
       "      <th>4</th>\n",
       "      <td>Albany Park</td>\n",
       "      <td>Bexley</td>\n",
       "      <td>DA5, DA14</td>\n",
       "    </tr>\n",
       "  </tbody>\n",
       "</table>\n",
       "</div>"
      ],
      "text/plain": [
       "      Location                     London borough Postcode district\n",
       "0   Abbey Wood              Bexley, Greenwich [7]               SE2\n",
       "1        Acton  Ealing, Hammersmith and Fulham[8]            W3, W4\n",
       "2    Addington                         Croydon[8]               CR0\n",
       "3   Addiscombe                         Croydon[8]               CR0\n",
       "4  Albany Park                             Bexley         DA5, DA14"
      ]
     },
     "execution_count": 46,
     "metadata": {},
     "output_type": "execute_result"
    }
   ],
   "source": [
    "london_dist.head()"
   ]
  },
  {
   "cell_type": "code",
   "execution_count": 47,
   "metadata": {},
   "outputs": [],
   "source": [
    "# Fixing column names\n",
    "london_dist.columns=['Location','Borough','PostalCode']"
   ]
  },
  {
   "cell_type": "code",
   "execution_count": 48,
   "metadata": {},
   "outputs": [
    {
     "data": {
      "text/html": [
       "<div>\n",
       "<style scoped>\n",
       "    .dataframe tbody tr th:only-of-type {\n",
       "        vertical-align: middle;\n",
       "    }\n",
       "\n",
       "    .dataframe tbody tr th {\n",
       "        vertical-align: top;\n",
       "    }\n",
       "\n",
       "    .dataframe thead th {\n",
       "        text-align: right;\n",
       "    }\n",
       "</style>\n",
       "<table border=\"1\" class=\"dataframe\">\n",
       "  <thead>\n",
       "    <tr style=\"text-align: right;\">\n",
       "      <th></th>\n",
       "      <th>Location</th>\n",
       "      <th>Borough</th>\n",
       "      <th>PostalCode</th>\n",
       "    </tr>\n",
       "  </thead>\n",
       "  <tbody>\n",
       "    <tr>\n",
       "      <th>0</th>\n",
       "      <td>Abbey Wood</td>\n",
       "      <td>Bexley, Greenwich [7]</td>\n",
       "      <td>SE2</td>\n",
       "    </tr>\n",
       "    <tr>\n",
       "      <th>1</th>\n",
       "      <td>Acton</td>\n",
       "      <td>Ealing, Hammersmith and Fulham[8]</td>\n",
       "      <td>W3, W4</td>\n",
       "    </tr>\n",
       "    <tr>\n",
       "      <th>2</th>\n",
       "      <td>Addington</td>\n",
       "      <td>Croydon[8]</td>\n",
       "      <td>CR0</td>\n",
       "    </tr>\n",
       "    <tr>\n",
       "      <th>3</th>\n",
       "      <td>Addiscombe</td>\n",
       "      <td>Croydon[8]</td>\n",
       "      <td>CR0</td>\n",
       "    </tr>\n",
       "    <tr>\n",
       "      <th>4</th>\n",
       "      <td>Albany Park</td>\n",
       "      <td>Bexley</td>\n",
       "      <td>DA5, DA14</td>\n",
       "    </tr>\n",
       "  </tbody>\n",
       "</table>\n",
       "</div>"
      ],
      "text/plain": [
       "      Location                            Borough PostalCode\n",
       "0   Abbey Wood              Bexley, Greenwich [7]        SE2\n",
       "1        Acton  Ealing, Hammersmith and Fulham[8]     W3, W4\n",
       "2    Addington                         Croydon[8]        CR0\n",
       "3   Addiscombe                         Croydon[8]        CR0\n",
       "4  Albany Park                             Bexley  DA5, DA14"
      ]
     },
     "execution_count": 48,
     "metadata": {},
     "output_type": "execute_result"
    }
   ],
   "source": [
    "london_dist.head()"
   ]
  },
  {
   "cell_type": "code",
   "execution_count": 49,
   "metadata": {},
   "outputs": [
    {
     "data": {
      "text/plain": [
       "(532, 3)"
      ]
     },
     "execution_count": 49,
     "metadata": {},
     "output_type": "execute_result"
    }
   ],
   "source": [
    "london_dist.shape"
   ]
  },
  {
   "cell_type": "markdown",
   "metadata": {},
   "source": [
    "### Selecting only central London districts, with postal codes WC1, WC2, EC1 and EC4"
   ]
  },
  {
   "cell_type": "code",
   "execution_count": 123,
   "metadata": {},
   "outputs": [],
   "source": [
    "searchfor = ['WC1', 'WC2','EC1', 'EC4'] # Selecting target district postal codes\n",
    "london_cent = london_dist[london_dist['PostalCode'].str.contains('|'.join(searchfor))] # Assigning output to a new dataframe"
   ]
  },
  {
   "cell_type": "code",
   "execution_count": 124,
   "metadata": {},
   "outputs": [
    {
     "name": "stdout",
     "output_type": "stream",
     "text": [
      "<class 'pandas.core.frame.DataFrame'>\n",
      "Int64Index: 16 entries, 7 to 456\n",
      "Data columns (total 3 columns):\n",
      " #   Column      Non-Null Count  Dtype \n",
      "---  ------      --------------  ----- \n",
      " 0   Location    16 non-null     object\n",
      " 1   Borough     16 non-null     object\n",
      " 2   PostalCode  16 non-null     object\n",
      "dtypes: object(3)\n",
      "memory usage: 512.0+ bytes\n"
     ]
    }
   ],
   "source": [
    "# Checking dataframe\n",
    "london_cent.info()"
   ]
  },
  {
   "cell_type": "code",
   "execution_count": 125,
   "metadata": {},
   "outputs": [],
   "source": [
    "# Dropping Borough column, reindexing\n",
    "london_cent= london_cent.drop(columns='Borough', axis=1)"
   ]
  },
  {
   "cell_type": "code",
   "execution_count": 132,
   "metadata": {},
   "outputs": [],
   "source": [
    "london_cent.reset_index(drop=True, inplace=True)"
   ]
  },
  {
   "cell_type": "code",
   "execution_count": 133,
   "metadata": {},
   "outputs": [
    {
     "data": {
      "text/html": [
       "<div>\n",
       "<style scoped>\n",
       "    .dataframe tbody tr th:only-of-type {\n",
       "        vertical-align: middle;\n",
       "    }\n",
       "\n",
       "    .dataframe tbody tr th {\n",
       "        vertical-align: top;\n",
       "    }\n",
       "\n",
       "    .dataframe thead th {\n",
       "        text-align: right;\n",
       "    }\n",
       "</style>\n",
       "<table border=\"1\" class=\"dataframe\">\n",
       "  <thead>\n",
       "    <tr style=\"text-align: right;\">\n",
       "      <th></th>\n",
       "      <th>Location</th>\n",
       "      <th>PostalCode</th>\n",
       "    </tr>\n",
       "  </thead>\n",
       "  <tbody>\n",
       "    <tr>\n",
       "      <th>0</th>\n",
       "      <td>Aldwych</td>\n",
       "      <td>WC2</td>\n",
       "    </tr>\n",
       "    <tr>\n",
       "      <th>1</th>\n",
       "      <td>Angel</td>\n",
       "      <td>EC1, N1</td>\n",
       "    </tr>\n",
       "    <tr>\n",
       "      <th>2</th>\n",
       "      <td>Barbican</td>\n",
       "      <td>EC1, EC2</td>\n",
       "    </tr>\n",
       "    <tr>\n",
       "      <th>3</th>\n",
       "      <td>Blackfriars</td>\n",
       "      <td>EC4</td>\n",
       "    </tr>\n",
       "    <tr>\n",
       "      <th>4</th>\n",
       "      <td>Bloomsbury</td>\n",
       "      <td>WC1</td>\n",
       "    </tr>\n",
       "    <tr>\n",
       "      <th>5</th>\n",
       "      <td>Charing Cross</td>\n",
       "      <td>WC2</td>\n",
       "    </tr>\n",
       "    <tr>\n",
       "      <th>6</th>\n",
       "      <td>Clerkenwell</td>\n",
       "      <td>EC1</td>\n",
       "    </tr>\n",
       "    <tr>\n",
       "      <th>7</th>\n",
       "      <td>Covent Garden</td>\n",
       "      <td>WC2</td>\n",
       "    </tr>\n",
       "    <tr>\n",
       "      <th>8</th>\n",
       "      <td>Farringdon</td>\n",
       "      <td>EC1</td>\n",
       "    </tr>\n",
       "    <tr>\n",
       "      <th>9</th>\n",
       "      <td>Finsbury</td>\n",
       "      <td>EC1</td>\n",
       "    </tr>\n",
       "    <tr>\n",
       "      <th>10</th>\n",
       "      <td>Holborn</td>\n",
       "      <td>WC1, WC2</td>\n",
       "    </tr>\n",
       "    <tr>\n",
       "      <th>11</th>\n",
       "      <td>King's Cross</td>\n",
       "      <td>WC1</td>\n",
       "    </tr>\n",
       "    <tr>\n",
       "      <th>12</th>\n",
       "      <td>St Giles</td>\n",
       "      <td>WC2</td>\n",
       "    </tr>\n",
       "    <tr>\n",
       "      <th>13</th>\n",
       "      <td>St Luke's</td>\n",
       "      <td>EC1</td>\n",
       "    </tr>\n",
       "    <tr>\n",
       "      <th>14</th>\n",
       "      <td>St Pancras</td>\n",
       "      <td>WC1</td>\n",
       "    </tr>\n",
       "    <tr>\n",
       "      <th>15</th>\n",
       "      <td>Temple</td>\n",
       "      <td>EC4, WC2</td>\n",
       "    </tr>\n",
       "  </tbody>\n",
       "</table>\n",
       "</div>"
      ],
      "text/plain": [
       "         Location PostalCode\n",
       "0         Aldwych        WC2\n",
       "1           Angel    EC1, N1\n",
       "2        Barbican   EC1, EC2\n",
       "3     Blackfriars        EC4\n",
       "4      Bloomsbury        WC1\n",
       "5   Charing Cross        WC2\n",
       "6     Clerkenwell        EC1\n",
       "7   Covent Garden        WC2\n",
       "8      Farringdon        EC1\n",
       "9        Finsbury        EC1\n",
       "10        Holborn   WC1, WC2\n",
       "11   King's Cross        WC1\n",
       "12       St Giles        WC2\n",
       "13      St Luke's        EC1\n",
       "14     St Pancras        WC1\n",
       "15         Temple   EC4, WC2"
      ]
     },
     "execution_count": 133,
     "metadata": {},
     "output_type": "execute_result"
    }
   ],
   "source": [
    "london_cent"
   ]
  },
  {
   "cell_type": "markdown",
   "metadata": {},
   "source": [
    "### Adding Coordinates to DataFrame"
   ]
  },
  {
   "cell_type": "code",
   "execution_count": 147,
   "metadata": {},
   "outputs": [],
   "source": [
    "# For loop for the coordinates\n",
    "coor_dict={'Latitude':[],'Longitude':[]} # Creating an empty dictionary\n",
    "geolocator = Nominatim(user_agent=\"ny_explorer\") # Initializing geolocator\n",
    "\n",
    "for i in range(len(london_cent)): # Range of row number in dataframe\n",
    "    location = geolocator.geocode('{},{}'.format(london_cent['Location'][i], 'London')) # Entering Location name as an adress\n",
    "    coor_dict['Latitude'].append(location.latitude) # Adding latitute to dictionary\n",
    "    coor_dict['Longitude'].append(location.longitude) # Adding longitude to dictionary"
   ]
  },
  {
   "cell_type": "code",
   "execution_count": 148,
   "metadata": {},
   "outputs": [
    {
     "data": {
      "text/plain": [
       "{'Latitude': [51.5132812,\n",
       "  51.5318417,\n",
       "  51.5201501,\n",
       "  51.5115854,\n",
       "  51.523126,\n",
       "  51.5074975,\n",
       "  51.5237268,\n",
       "  51.512873600000006,\n",
       "  51.5201241,\n",
       "  51.521798,\n",
       "  51.5179341,\n",
       "  51.5323954,\n",
       "  51.5154723,\n",
       "  51.489577,\n",
       "  51.5259149,\n",
       "  51.5109659],\n",
       " 'Longitude': [-0.1160301,\n",
       "  -0.1057137,\n",
       "  -0.0986832,\n",
       "  -0.1037671,\n",
       "  -0.1260664,\n",
       "  -0.1236888,\n",
       "  -0.1055555,\n",
       "  -0.12254367918576929,\n",
       "  -0.1047928,\n",
       "  -0.0914245,\n",
       "  -0.1195284,\n",
       "  -0.1230224,\n",
       "  -0.1284181,\n",
       "  -0.16938725233160384,\n",
       "  -0.1290973,\n",
       "  -0.1143345]}"
      ]
     },
     "execution_count": 148,
     "metadata": {},
     "output_type": "execute_result"
    }
   ],
   "source": [
    "coor_dict"
   ]
  },
  {
   "cell_type": "code",
   "execution_count": 149,
   "metadata": {},
   "outputs": [
    {
     "data": {
      "text/html": [
       "<div>\n",
       "<style scoped>\n",
       "    .dataframe tbody tr th:only-of-type {\n",
       "        vertical-align: middle;\n",
       "    }\n",
       "\n",
       "    .dataframe tbody tr th {\n",
       "        vertical-align: top;\n",
       "    }\n",
       "\n",
       "    .dataframe thead th {\n",
       "        text-align: right;\n",
       "    }\n",
       "</style>\n",
       "<table border=\"1\" class=\"dataframe\">\n",
       "  <thead>\n",
       "    <tr style=\"text-align: right;\">\n",
       "      <th></th>\n",
       "      <th>Latitude</th>\n",
       "      <th>Longitude</th>\n",
       "    </tr>\n",
       "  </thead>\n",
       "  <tbody>\n",
       "    <tr>\n",
       "      <th>0</th>\n",
       "      <td>51.513281</td>\n",
       "      <td>-0.116030</td>\n",
       "    </tr>\n",
       "    <tr>\n",
       "      <th>1</th>\n",
       "      <td>51.531842</td>\n",
       "      <td>-0.105714</td>\n",
       "    </tr>\n",
       "    <tr>\n",
       "      <th>2</th>\n",
       "      <td>51.520150</td>\n",
       "      <td>-0.098683</td>\n",
       "    </tr>\n",
       "    <tr>\n",
       "      <th>3</th>\n",
       "      <td>51.511585</td>\n",
       "      <td>-0.103767</td>\n",
       "    </tr>\n",
       "    <tr>\n",
       "      <th>4</th>\n",
       "      <td>51.523126</td>\n",
       "      <td>-0.126066</td>\n",
       "    </tr>\n",
       "  </tbody>\n",
       "</table>\n",
       "</div>"
      ],
      "text/plain": [
       "    Latitude  Longitude\n",
       "0  51.513281  -0.116030\n",
       "1  51.531842  -0.105714\n",
       "2  51.520150  -0.098683\n",
       "3  51.511585  -0.103767\n",
       "4  51.523126  -0.126066"
      ]
     },
     "execution_count": 149,
     "metadata": {},
     "output_type": "execute_result"
    }
   ],
   "source": [
    "# From dictionary to dataframe\n",
    "pd.DataFrame(coor_dict).head()"
   ]
  },
  {
   "cell_type": "code",
   "execution_count": 150,
   "metadata": {},
   "outputs": [],
   "source": [
    "# Adding dictionary to dataframe as new columns, assigning as df3\n",
    "london_cent_coor = pd.concat([london_cent,pd.DataFrame(coor_dict)], axis=1)"
   ]
  },
  {
   "cell_type": "code",
   "execution_count": 152,
   "metadata": {},
   "outputs": [
    {
     "data": {
      "text/html": [
       "<div>\n",
       "<style scoped>\n",
       "    .dataframe tbody tr th:only-of-type {\n",
       "        vertical-align: middle;\n",
       "    }\n",
       "\n",
       "    .dataframe tbody tr th {\n",
       "        vertical-align: top;\n",
       "    }\n",
       "\n",
       "    .dataframe thead th {\n",
       "        text-align: right;\n",
       "    }\n",
       "</style>\n",
       "<table border=\"1\" class=\"dataframe\">\n",
       "  <thead>\n",
       "    <tr style=\"text-align: right;\">\n",
       "      <th></th>\n",
       "      <th>Location</th>\n",
       "      <th>PostalCode</th>\n",
       "      <th>Latitude</th>\n",
       "      <th>Longitude</th>\n",
       "    </tr>\n",
       "  </thead>\n",
       "  <tbody>\n",
       "    <tr>\n",
       "      <th>0</th>\n",
       "      <td>Aldwych</td>\n",
       "      <td>WC2</td>\n",
       "      <td>51.513281</td>\n",
       "      <td>-0.116030</td>\n",
       "    </tr>\n",
       "    <tr>\n",
       "      <th>1</th>\n",
       "      <td>Angel</td>\n",
       "      <td>EC1, N1</td>\n",
       "      <td>51.531842</td>\n",
       "      <td>-0.105714</td>\n",
       "    </tr>\n",
       "    <tr>\n",
       "      <th>2</th>\n",
       "      <td>Barbican</td>\n",
       "      <td>EC1, EC2</td>\n",
       "      <td>51.520150</td>\n",
       "      <td>-0.098683</td>\n",
       "    </tr>\n",
       "    <tr>\n",
       "      <th>3</th>\n",
       "      <td>Blackfriars</td>\n",
       "      <td>EC4</td>\n",
       "      <td>51.511585</td>\n",
       "      <td>-0.103767</td>\n",
       "    </tr>\n",
       "    <tr>\n",
       "      <th>4</th>\n",
       "      <td>Bloomsbury</td>\n",
       "      <td>WC1</td>\n",
       "      <td>51.523126</td>\n",
       "      <td>-0.126066</td>\n",
       "    </tr>\n",
       "  </tbody>\n",
       "</table>\n",
       "</div>"
      ],
      "text/plain": [
       "      Location PostalCode   Latitude  Longitude\n",
       "0      Aldwych        WC2  51.513281  -0.116030\n",
       "1        Angel    EC1, N1  51.531842  -0.105714\n",
       "2     Barbican   EC1, EC2  51.520150  -0.098683\n",
       "3  Blackfriars        EC4  51.511585  -0.103767\n",
       "4   Bloomsbury        WC1  51.523126  -0.126066"
      ]
     },
     "execution_count": 152,
     "metadata": {},
     "output_type": "execute_result"
    }
   ],
   "source": [
    "london_cent_coor.head()"
   ]
  },
  {
   "cell_type": "markdown",
   "metadata": {},
   "source": [
    "_Target district dataframe with coordinates is ready._"
   ]
  },
  {
   "cell_type": "markdown",
   "metadata": {},
   "source": [
    "### Map of London with :ocation and Postal Code markers"
   ]
  },
  {
   "cell_type": "code",
   "execution_count": 165,
   "metadata": {},
   "outputs": [
    {
     "data": {
      "text/html": [
       "<div style=\"width:100%;\"><div style=\"position:relative;width:100%;height:0;padding-bottom:60%;\"><span style=\"color:#565656\">Make this Notebook Trusted to load map: File -> Trust Notebook</span><iframe src=\"about:blank\" style=\"position:absolute;width:100%;height:100%;left:0;top:0;border:none !important;\" data-html=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 onload=\"this.contentDocument.open();this.contentDocument.write(atob(this.getAttribute('data-html')));this.contentDocument.close();\" allowfullscreen webkitallowfullscreen mozallowfullscreen></iframe></div></div>"
      ],
      "text/plain": [
       "<folium.folium.Map at 0x2b94c1581f0>"
      ]
     },
     "execution_count": 165,
     "metadata": {},
     "output_type": "execute_result"
    }
   ],
   "source": [
    "# create map of Toronto using latitude and longitude values\n",
    "map_london = folium.Map(location=[latitude, longitude], zoom_start=13)\n",
    "\n",
    "# add markers to map\n",
    "for lat, lng, location,PostalCode in zip(london_cent_coor['Latitude'], london_cent_coor['Longitude'], london_cent_coor['Location'],london_cent_coor['PostalCode']):\n",
    "    label = '{}, {}'.format(location,PostalCode)\n",
    "    label = folium.Popup(label, parse_html=True)\n",
    "    folium.CircleMarker(\n",
    "        [lat, lng],\n",
    "        radius=5,\n",
    "        popup=label,\n",
    "        color='blue',\n",
    "        fill=True,\n",
    "        fill_color='#3186cc',\n",
    "        fill_opacity=0.7).add_to(map_london)  \n",
    "    \n",
    "map_london"
   ]
  },
  {
   "cell_type": "code",
   "execution_count": null,
   "metadata": {},
   "outputs": [],
   "source": []
  },
  {
   "cell_type": "code",
   "execution_count": null,
   "metadata": {},
   "outputs": [],
   "source": []
  },
  {
   "cell_type": "code",
   "execution_count": null,
   "metadata": {},
   "outputs": [],
   "source": []
  },
  {
   "cell_type": "code",
   "execution_count": null,
   "metadata": {},
   "outputs": [],
   "source": []
  },
  {
   "cell_type": "code",
   "execution_count": null,
   "metadata": {},
   "outputs": [],
   "source": []
  },
  {
   "cell_type": "code",
   "execution_count": 153,
   "metadata": {},
   "outputs": [
    {
     "name": "stdout",
     "output_type": "stream",
     "text": [
      "The geograpical coordinates of Toronto are 51.5073219, -0.1276474.\n"
     ]
    }
   ],
   "source": [
    "# Checking coordinates of Toronto\n",
    "address = ('London')\n",
    "\n",
    "geolocator = Nominatim(user_agent=\"ny_explorer\")\n",
    "location = geolocator.geocode(address)\n",
    "latitude = location.latitude\n",
    "longitude = location.longitude\n",
    "print('The geograpical coordinates of Toronto are {}, {}.'.format(latitude, longitude))"
   ]
  },
  {
   "cell_type": "code",
   "execution_count": null,
   "metadata": {},
   "outputs": [],
   "source": []
  }
 ],
 "metadata": {
  "kernelspec": {
   "display_name": "Python 3",
   "language": "python",
   "name": "python3"
  },
  "language_info": {
   "codemirror_mode": {
    "name": "ipython",
    "version": 3
   },
   "file_extension": ".py",
   "mimetype": "text/x-python",
   "name": "python",
   "nbconvert_exporter": "python",
   "pygments_lexer": "ipython3",
   "version": "3.8.3"
  }
 },
 "nbformat": 4,
 "nbformat_minor": 4
}
